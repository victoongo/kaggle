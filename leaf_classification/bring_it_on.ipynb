{
 "cells": [
  {
   "cell_type": "code",
   "execution_count": 1,
   "metadata": {
    "collapsed": true
   },
   "outputs": [],
   "source": [
    "import pandas as pd\n",
    "import numpy as np\n",
    "import csv as csv\n",
    "import os\n",
    "from sklearn.ensemble import RandomForestClassifier\n",
    "from sklearn.ensemble import GradientBoostingClassifier\n",
    "from sklearn.preprocessing import OneHotEncoder\n",
    "from sklearn.preprocessing import LabelEncoder\n",
    "\n",
    "%matplotlib inline"
   ]
  },
  {
   "cell_type": "code",
   "execution_count": 2,
   "metadata": {
    "collapsed": false
   },
   "outputs": [
    {
     "data": {
      "text/html": [
       "<div>\n",
       "<table border=\"1\" class=\"dataframe\">\n",
       "  <thead>\n",
       "    <tr style=\"text-align: right;\">\n",
       "      <th></th>\n",
       "      <th>id</th>\n",
       "      <th>species</th>\n",
       "      <th>margin1</th>\n",
       "      <th>margin2</th>\n",
       "      <th>margin3</th>\n",
       "      <th>margin4</th>\n",
       "      <th>margin5</th>\n",
       "      <th>margin6</th>\n",
       "      <th>margin7</th>\n",
       "      <th>margin8</th>\n",
       "      <th>...</th>\n",
       "      <th>texture55</th>\n",
       "      <th>texture56</th>\n",
       "      <th>texture57</th>\n",
       "      <th>texture58</th>\n",
       "      <th>texture59</th>\n",
       "      <th>texture60</th>\n",
       "      <th>texture61</th>\n",
       "      <th>texture62</th>\n",
       "      <th>texture63</th>\n",
       "      <th>texture64</th>\n",
       "    </tr>\n",
       "  </thead>\n",
       "  <tbody>\n",
       "    <tr>\n",
       "      <th>0</th>\n",
       "      <td>1</td>\n",
       "      <td>Acer_Opalus</td>\n",
       "      <td>0.007812</td>\n",
       "      <td>0.023438</td>\n",
       "      <td>0.023438</td>\n",
       "      <td>0.003906</td>\n",
       "      <td>0.011719</td>\n",
       "      <td>0.009766</td>\n",
       "      <td>0.027344</td>\n",
       "      <td>0.0</td>\n",
       "      <td>...</td>\n",
       "      <td>0.007812</td>\n",
       "      <td>0.000000</td>\n",
       "      <td>0.002930</td>\n",
       "      <td>0.002930</td>\n",
       "      <td>0.035156</td>\n",
       "      <td>0.0</td>\n",
       "      <td>0.0</td>\n",
       "      <td>0.004883</td>\n",
       "      <td>0.000000</td>\n",
       "      <td>0.025391</td>\n",
       "    </tr>\n",
       "    <tr>\n",
       "      <th>1</th>\n",
       "      <td>2</td>\n",
       "      <td>Pterocarya_Stenoptera</td>\n",
       "      <td>0.005859</td>\n",
       "      <td>0.000000</td>\n",
       "      <td>0.031250</td>\n",
       "      <td>0.015625</td>\n",
       "      <td>0.025391</td>\n",
       "      <td>0.001953</td>\n",
       "      <td>0.019531</td>\n",
       "      <td>0.0</td>\n",
       "      <td>...</td>\n",
       "      <td>0.000977</td>\n",
       "      <td>0.000000</td>\n",
       "      <td>0.000000</td>\n",
       "      <td>0.000977</td>\n",
       "      <td>0.023438</td>\n",
       "      <td>0.0</td>\n",
       "      <td>0.0</td>\n",
       "      <td>0.000977</td>\n",
       "      <td>0.039062</td>\n",
       "      <td>0.022461</td>\n",
       "    </tr>\n",
       "    <tr>\n",
       "      <th>2</th>\n",
       "      <td>3</td>\n",
       "      <td>Quercus_Hartwissiana</td>\n",
       "      <td>0.005859</td>\n",
       "      <td>0.009766</td>\n",
       "      <td>0.019531</td>\n",
       "      <td>0.007812</td>\n",
       "      <td>0.003906</td>\n",
       "      <td>0.005859</td>\n",
       "      <td>0.068359</td>\n",
       "      <td>0.0</td>\n",
       "      <td>...</td>\n",
       "      <td>0.154300</td>\n",
       "      <td>0.000000</td>\n",
       "      <td>0.005859</td>\n",
       "      <td>0.000977</td>\n",
       "      <td>0.007812</td>\n",
       "      <td>0.0</td>\n",
       "      <td>0.0</td>\n",
       "      <td>0.000000</td>\n",
       "      <td>0.020508</td>\n",
       "      <td>0.002930</td>\n",
       "    </tr>\n",
       "    <tr>\n",
       "      <th>3</th>\n",
       "      <td>5</td>\n",
       "      <td>Tilia_Tomentosa</td>\n",
       "      <td>0.000000</td>\n",
       "      <td>0.003906</td>\n",
       "      <td>0.023438</td>\n",
       "      <td>0.005859</td>\n",
       "      <td>0.021484</td>\n",
       "      <td>0.019531</td>\n",
       "      <td>0.023438</td>\n",
       "      <td>0.0</td>\n",
       "      <td>...</td>\n",
       "      <td>0.000000</td>\n",
       "      <td>0.000977</td>\n",
       "      <td>0.000000</td>\n",
       "      <td>0.000000</td>\n",
       "      <td>0.020508</td>\n",
       "      <td>0.0</td>\n",
       "      <td>0.0</td>\n",
       "      <td>0.017578</td>\n",
       "      <td>0.000000</td>\n",
       "      <td>0.047852</td>\n",
       "    </tr>\n",
       "    <tr>\n",
       "      <th>4</th>\n",
       "      <td>6</td>\n",
       "      <td>Quercus_Variabilis</td>\n",
       "      <td>0.005859</td>\n",
       "      <td>0.003906</td>\n",
       "      <td>0.048828</td>\n",
       "      <td>0.009766</td>\n",
       "      <td>0.013672</td>\n",
       "      <td>0.015625</td>\n",
       "      <td>0.005859</td>\n",
       "      <td>0.0</td>\n",
       "      <td>...</td>\n",
       "      <td>0.096680</td>\n",
       "      <td>0.000000</td>\n",
       "      <td>0.021484</td>\n",
       "      <td>0.000000</td>\n",
       "      <td>0.000000</td>\n",
       "      <td>0.0</td>\n",
       "      <td>0.0</td>\n",
       "      <td>0.000000</td>\n",
       "      <td>0.000000</td>\n",
       "      <td>0.031250</td>\n",
       "    </tr>\n",
       "  </tbody>\n",
       "</table>\n",
       "<p>5 rows × 194 columns</p>\n",
       "</div>"
      ],
      "text/plain": [
       "   id                species   margin1   margin2   margin3   margin4  \\\n",
       "0   1            Acer_Opalus  0.007812  0.023438  0.023438  0.003906   \n",
       "1   2  Pterocarya_Stenoptera  0.005859  0.000000  0.031250  0.015625   \n",
       "2   3   Quercus_Hartwissiana  0.005859  0.009766  0.019531  0.007812   \n",
       "3   5        Tilia_Tomentosa  0.000000  0.003906  0.023438  0.005859   \n",
       "4   6     Quercus_Variabilis  0.005859  0.003906  0.048828  0.009766   \n",
       "\n",
       "    margin5   margin6   margin7  margin8    ...      texture55  texture56  \\\n",
       "0  0.011719  0.009766  0.027344      0.0    ...       0.007812   0.000000   \n",
       "1  0.025391  0.001953  0.019531      0.0    ...       0.000977   0.000000   \n",
       "2  0.003906  0.005859  0.068359      0.0    ...       0.154300   0.000000   \n",
       "3  0.021484  0.019531  0.023438      0.0    ...       0.000000   0.000977   \n",
       "4  0.013672  0.015625  0.005859      0.0    ...       0.096680   0.000000   \n",
       "\n",
       "   texture57  texture58  texture59  texture60  texture61  texture62  \\\n",
       "0   0.002930   0.002930   0.035156        0.0        0.0   0.004883   \n",
       "1   0.000000   0.000977   0.023438        0.0        0.0   0.000977   \n",
       "2   0.005859   0.000977   0.007812        0.0        0.0   0.000000   \n",
       "3   0.000000   0.000000   0.020508        0.0        0.0   0.017578   \n",
       "4   0.021484   0.000000   0.000000        0.0        0.0   0.000000   \n",
       "\n",
       "   texture63  texture64  \n",
       "0   0.000000   0.025391  \n",
       "1   0.039062   0.022461  \n",
       "2   0.020508   0.002930  \n",
       "3   0.000000   0.047852  \n",
       "4   0.000000   0.031250  \n",
       "\n",
       "[5 rows x 194 columns]"
      ]
     },
     "execution_count": 2,
     "metadata": {},
     "output_type": "execute_result"
    }
   ],
   "source": [
    "# Data cleanup\n",
    "# TRAIN DATA\n",
    "os.chdir(os.path.expanduser(\"~/Dropbox/Projects/data/kaggle/leaf_classification/\"))\n",
    "train = pd.read_csv('train.csv', header=0)        # Load the train file into a dataframe\n",
    "test = pd.read_csv('test.csv', header=0)\n",
    "train.head()"
   ]
  },
  {
   "cell_type": "raw",
   "metadata": {
    "collapsed": false,
    "scrolled": true
   },
   "source": [
    "train.dtypes"
   ]
  },
  {
   "cell_type": "code",
   "execution_count": 3,
   "metadata": {
    "collapsed": false,
    "scrolled": true
   },
   "outputs": [
    {
     "data": {
      "text/plain": [
       "array(['margin1', 'margin10', 'margin11', 'margin12', 'margin13',\n",
       "       'margin14', 'margin15', 'margin16', 'margin17', 'margin18',\n",
       "       'margin19', 'margin2', 'margin20', 'margin21', 'margin22',\n",
       "       'margin23', 'margin24', 'margin25', 'margin26', 'margin27',\n",
       "       'margin28', 'margin29', 'margin3', 'margin30', 'margin31',\n",
       "       'margin32', 'margin33', 'margin34', 'margin35', 'margin36',\n",
       "       'margin37', 'margin38', 'margin39', 'margin4', 'margin40',\n",
       "       'margin41', 'margin42', 'margin43', 'margin44', 'margin45',\n",
       "       'margin46', 'margin47', 'margin48', 'margin49', 'margin5',\n",
       "       'margin50', 'margin51', 'margin52', 'margin53', 'margin54',\n",
       "       'margin55', 'margin56', 'margin57', 'margin58', 'margin59',\n",
       "       'margin6', 'margin60', 'margin61', 'margin62', 'margin63',\n",
       "       'margin64', 'margin7', 'margin8', 'margin9', 'shape1', 'shape10',\n",
       "       'shape11', 'shape12', 'shape13', 'shape14', 'shape15', 'shape16',\n",
       "       'shape17', 'shape18', 'shape19', 'shape2', 'shape20', 'shape21',\n",
       "       'shape22', 'shape23', 'shape24', 'shape25', 'shape26', 'shape27',\n",
       "       'shape28', 'shape29', 'shape3', 'shape30', 'shape31', 'shape32',\n",
       "       'shape33', 'shape34', 'shape35', 'shape36', 'shape37', 'shape38',\n",
       "       'shape39', 'shape4', 'shape40', 'shape41', 'shape42', 'shape43',\n",
       "       'shape44', 'shape45', 'shape46', 'shape47', 'shape48', 'shape49',\n",
       "       'shape5', 'shape50', 'shape51', 'shape52', 'shape53', 'shape54',\n",
       "       'shape55', 'shape56', 'shape57', 'shape58', 'shape59', 'shape6',\n",
       "       'shape60', 'shape61', 'shape62', 'shape63', 'shape64', 'shape7',\n",
       "       'shape8', 'shape9', 'texture1', 'texture10', 'texture11',\n",
       "       'texture12', 'texture13', 'texture14', 'texture15', 'texture16',\n",
       "       'texture17', 'texture18', 'texture19', 'texture2', 'texture20',\n",
       "       'texture21', 'texture22', 'texture23', 'texture24', 'texture25',\n",
       "       'texture26', 'texture27', 'texture28', 'texture29', 'texture3',\n",
       "       'texture30', 'texture31', 'texture32', 'texture33', 'texture34',\n",
       "       'texture35', 'texture36', 'texture37', 'texture38', 'texture39',\n",
       "       'texture4', 'texture40', 'texture41', 'texture42', 'texture43',\n",
       "       'texture44', 'texture45', 'texture46', 'texture47', 'texture48',\n",
       "       'texture49', 'texture5', 'texture50', 'texture51', 'texture52',\n",
       "       'texture53', 'texture54', 'texture55', 'texture56', 'texture57',\n",
       "       'texture58', 'texture59', 'texture6', 'texture60', 'texture61',\n",
       "       'texture62', 'texture63', 'texture64', 'texture7', 'texture8',\n",
       "       'texture9'], dtype=object)"
      ]
     },
     "execution_count": 3,
     "metadata": {},
     "output_type": "execute_result"
    }
   ],
   "source": [
    "con_all = train.select_dtypes(include=['float64', 'int64']).columns.values\n",
    "outcome = np.array(['id'])\n",
    "con = np.setdiff1d(con_all, outcome)\n",
    "con"
   ]
  },
  {
   "cell_type": "raw",
   "metadata": {
    "collapsed": false,
    "scrolled": true
   },
   "source": [
    "train[con].count()"
   ]
  },
  {
   "cell_type": "code",
   "execution_count": 4,
   "metadata": {
    "collapsed": false
   },
   "outputs": [
    {
     "data": {
      "text/plain": [
       "array([], dtype=object)"
      ]
     },
     "execution_count": 4,
     "metadata": {},
     "output_type": "execute_result"
    }
   ],
   "source": [
    "cat_all = train.select_dtypes(include=['object']).columns.values\n",
    "outcome = np.array(['species'])\n",
    "cat = np.setdiff1d(cat_all, outcome)\n",
    "cat"
   ]
  },
  {
   "cell_type": "code",
   "execution_count": null,
   "metadata": {
    "collapsed": true
   },
   "outputs": [],
   "source": []
  },
  {
   "cell_type": "code",
   "execution_count": 9,
   "metadata": {
    "collapsed": true
   },
   "outputs": [],
   "source": [
    "X_train = train[con]\n",
    "X_test = test[con]"
   ]
  },
  {
   "cell_type": "raw",
   "metadata": {
    "collapsed": false,
    "scrolled": true
   },
   "source": [
    "train.species"
   ]
  },
  {
   "cell_type": "raw",
   "metadata": {
    "collapsed": false,
    "scrolled": true
   },
   "source": [
    "train.species.tolist()"
   ]
  },
  {
   "cell_type": "raw",
   "metadata": {
    "collapsed": false
   },
   "source": [
    "Y = [[i] for i in train.species.tolist()]"
   ]
  },
  {
   "cell_type": "code",
   "execution_count": 6,
   "metadata": {
    "collapsed": false
   },
   "outputs": [
    {
     "data": {
      "text/plain": [
       "array([[0, 0, 0, ..., 0, 0, 0],\n",
       "       [0, 0, 0, ..., 0, 0, 0],\n",
       "       [0, 0, 0, ..., 0, 0, 0],\n",
       "       ..., \n",
       "       [0, 0, 0, ..., 0, 0, 0],\n",
       "       [0, 0, 0, ..., 0, 0, 0],\n",
       "       [0, 0, 0, ..., 0, 0, 0]])"
      ]
     },
     "execution_count": 6,
     "metadata": {},
     "output_type": "execute_result"
    }
   ],
   "source": [
    "from sklearn.preprocessing import LabelBinarizer\n",
    "lb = LabelBinarizer()\n",
    "Y_train = lb.fit_transform(train.species)\n",
    "Y_train"
   ]
  },
  {
   "cell_type": "raw",
   "metadata": {
    "collapsed": false
   },
   "source": [
    "list(lb.classes_)"
   ]
  },
  {
   "cell_type": "code",
   "execution_count": 8,
   "metadata": {
    "collapsed": false
   },
   "outputs": [
    {
     "data": {
      "text/plain": [
       "(990, 192)"
      ]
     },
     "execution_count": 8,
     "metadata": {},
     "output_type": "execute_result"
    }
   ],
   "source": [
    "X_train.shape"
   ]
  },
  {
   "cell_type": "raw",
   "metadata": {
    "collapsed": false
   },
   "source": [
    "from sklearn.multioutput import MultiOutputClassifier\n",
    "from sklearn.ensemble import RandomForestClassifier\n",
    "\n",
    "forest = RandomForestClassifier(n_estimators=100, random_state=1)\n",
    "multi_target_forest = MultiOutputClassifier(forest, n_jobs=-1)\n",
    "\n",
    "output = multi_target_forest.fit(X_train, Y_train).predict(X_test)\n",
    "output"
   ]
  },
  {
   "cell_type": "code",
   "execution_count": 21,
   "metadata": {
    "collapsed": false
   },
   "outputs": [
    {
     "data": {
      "text/plain": [
       "array([[  6.39942025e-06,   5.04600502e-05,   2.80127092e-06, ...,\n",
       "          1.98623872e-06,   1.65760244e-05,   2.55158447e-06],\n",
       "       [  1.81937042e-06,   4.68915123e-05,   1.50228196e-05, ...,\n",
       "          7.83717594e-04,   1.20363327e-05,   2.65066911e-04],\n",
       "       [  1.23150253e-04,   9.39651399e-01,   4.46367360e-04, ...,\n",
       "          7.79670084e-07,   3.30562215e-06,   1.98938876e-02],\n",
       "       ..., \n",
       "       [  9.04642995e-05,   3.75246688e-04,   3.78797081e-04, ...,\n",
       "          2.08660987e-05,   8.72422078e-06,   6.34340418e-06],\n",
       "       [  5.46947566e-05,   1.87188679e-05,   1.57163550e-04, ...,\n",
       "          2.49207812e-06,   7.18606774e-05,   7.14303036e-06],\n",
       "       [  1.00000010e-07,   4.55341673e-04,   3.18176603e-05, ...,\n",
       "          1.66021643e-05,   1.13284610e-04,   6.47149837e-05]])"
      ]
     },
     "execution_count": 21,
     "metadata": {},
     "output_type": "execute_result"
    }
   ],
   "source": [
    "from sklearn.multiclass import OneVsRestClassifier\n",
    "from sklearn.svm import SVC\n",
    "output = OneVsRestClassifier(SVC(kernel='linear', probability=True)).fit(X_train, Y_train).predict_proba(X_test)\n",
    "# output\n",
    "\n",
    "outdf = pd.DataFrame(output)\n",
    "outdf.columns = list(lb.classes_)\n",
    "outdf['id'] = test['id']\n",
    "outdf = outdf[[\"id\"] + list(lb.classes_)]\n",
    "# outdf.head()\n",
    "outdf.to_csv('submissions/onevstherest_svc.csv', index=False)\n",
    "print 'Done.'"
   ]
  },
  {
   "cell_type": "code",
   "execution_count": 27,
   "metadata": {
    "collapsed": false
   },
   "outputs": [
    {
     "name": "stdout",
     "output_type": "stream",
     "text": [
      "Done.\n"
     ]
    }
   ],
   "source": [
    "from sklearn.multiclass import OneVsRestClassifier\n",
    "from sklearn.ensemble import RandomForestClassifier\n",
    "\n",
    "output = OneVsRestClassifier(RandomForestClassifier(n_estimators=100)).fit(X_train, Y_train).predict_proba(X_test)\n",
    "output\n",
    "\n",
    "outdf = pd.DataFrame(output)\n",
    "outdf.columns = list(lb.classes_)\n",
    "outdf['id'] = test['id']\n",
    "outdf = outdf[[\"id\"] + list(lb.classes_)]\n",
    "# outdf.head()\n",
    "outdf.to_csv('submissions/onevstherest_rf.csv', index=False)\n",
    "print 'Done.'"
   ]
  },
  {
   "cell_type": "code",
   "execution_count": 29,
   "metadata": {
    "collapsed": false
   },
   "outputs": [
    {
     "data": {
      "text/plain": [
       "array([[  3.05223731e-05,   2.20754706e-05,   3.02519463e-05, ...,\n",
       "          2.66953210e-05,   2.69556842e-05,   2.72510848e-05],\n",
       "       [  3.05223731e-05,   2.20754706e-05,   5.51688981e-05, ...,\n",
       "          2.66953210e-05,   2.69556842e-05,   2.72510848e-05],\n",
       "       [  3.05223731e-05,   8.96064256e-05,   3.02519463e-05, ...,\n",
       "          2.66953210e-05,   2.69556842e-05,   2.87134347e-05],\n",
       "       ..., \n",
       "       [  3.05223731e-05,   2.20754706e-05,   3.02519463e-05, ...,\n",
       "          2.66953210e-05,   2.69556842e-05,   2.72510848e-05],\n",
       "       [  3.05223731e-05,   2.20754706e-05,   3.02519463e-05, ...,\n",
       "          2.66953210e-05,   2.69556842e-05,   2.72510848e-05],\n",
       "       [  3.05223731e-05,   3.99921180e-05,   3.02519463e-05, ...,\n",
       "          2.66953210e-05,   2.69556842e-05,   2.72510848e-05]])"
      ]
     },
     "execution_count": 29,
     "metadata": {},
     "output_type": "execute_result"
    }
   ],
   "source": [
    "from sklearn.multiclass import OneVsRestClassifier\n",
    "from sklearn.ensemble import GradientBoostingClassifier\n",
    "\n",
    "output = OneVsRestClassifier(GradientBoostingClassifier(n_estimators=100)).fit(X_train, Y_train).predict_proba(X_test)\n",
    "output"
   ]
  },
  {
   "cell_type": "code",
   "execution_count": 30,
   "metadata": {
    "collapsed": false
   },
   "outputs": [
    {
     "name": "stdout",
     "output_type": "stream",
     "text": [
      "Done.\n"
     ]
    }
   ],
   "source": [
    "outdf = pd.DataFrame(output)\n",
    "outdf.columns = list(lb.classes_)\n",
    "outdf['id'] = test['id']\n",
    "outdf = outdf[[\"id\"] + list(lb.classes_)]\n",
    "# outdf.head()\n",
    "outdf.to_csv('submissions/onevstherest_gbm.csv', index=False)\n",
    "print 'Done.'"
   ]
  },
  {
   "cell_type": "code",
   "execution_count": null,
   "metadata": {
    "collapsed": true
   },
   "outputs": [],
   "source": []
  }
 ],
 "metadata": {
  "kernelspec": {
   "display_name": "Python 2",
   "language": "python",
   "name": "python2"
  },
  "language_info": {
   "codemirror_mode": {
    "name": "ipython",
    "version": 2
   },
   "file_extension": ".py",
   "mimetype": "text/x-python",
   "name": "python",
   "nbconvert_exporter": "python",
   "pygments_lexer": "ipython2",
   "version": "2.7.12"
  }
 },
 "nbformat": 4,
 "nbformat_minor": 0
}
