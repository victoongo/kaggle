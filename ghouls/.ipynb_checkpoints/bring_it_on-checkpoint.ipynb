{
 "cells": [
  {
   "cell_type": "code",
   "execution_count": 1,
   "metadata": {
    "collapsed": true
   },
   "outputs": [],
   "source": [
    "import pandas as pd\n",
    "import numpy as np\n",
    "import csv as csv\n",
    "import os\n",
    "from sklearn.ensemble import RandomForestClassifier\n",
    "from sklearn.ensemble import GradientBoostingClassifier\n",
    "from sklearn.preprocessing import OneHotEncoder\n",
    "from sklearn.preprocessing import LabelEncoder\n",
    "\n",
    "%matplotlib inline"
   ]
  },
  {
   "cell_type": "code",
   "execution_count": 2,
   "metadata": {
    "collapsed": false
   },
   "outputs": [
    {
     "data": {
      "text/html": [
       "<div>\n",
       "<table border=\"1\" class=\"dataframe\">\n",
       "  <thead>\n",
       "    <tr style=\"text-align: right;\">\n",
       "      <th></th>\n",
       "      <th>id</th>\n",
       "      <th>bone_length</th>\n",
       "      <th>rotting_flesh</th>\n",
       "      <th>hair_length</th>\n",
       "      <th>has_soul</th>\n",
       "      <th>color</th>\n",
       "      <th>type</th>\n",
       "    </tr>\n",
       "  </thead>\n",
       "  <tbody>\n",
       "    <tr>\n",
       "      <th>0</th>\n",
       "      <td>0</td>\n",
       "      <td>0.354512</td>\n",
       "      <td>0.350839</td>\n",
       "      <td>0.465761</td>\n",
       "      <td>0.781142</td>\n",
       "      <td>clear</td>\n",
       "      <td>Ghoul</td>\n",
       "    </tr>\n",
       "    <tr>\n",
       "      <th>1</th>\n",
       "      <td>1</td>\n",
       "      <td>0.575560</td>\n",
       "      <td>0.425868</td>\n",
       "      <td>0.531401</td>\n",
       "      <td>0.439899</td>\n",
       "      <td>green</td>\n",
       "      <td>Goblin</td>\n",
       "    </tr>\n",
       "    <tr>\n",
       "      <th>2</th>\n",
       "      <td>2</td>\n",
       "      <td>0.467875</td>\n",
       "      <td>0.354330</td>\n",
       "      <td>0.811616</td>\n",
       "      <td>0.791225</td>\n",
       "      <td>black</td>\n",
       "      <td>Ghoul</td>\n",
       "    </tr>\n",
       "    <tr>\n",
       "      <th>3</th>\n",
       "      <td>4</td>\n",
       "      <td>0.776652</td>\n",
       "      <td>0.508723</td>\n",
       "      <td>0.636766</td>\n",
       "      <td>0.884464</td>\n",
       "      <td>black</td>\n",
       "      <td>Ghoul</td>\n",
       "    </tr>\n",
       "    <tr>\n",
       "      <th>4</th>\n",
       "      <td>5</td>\n",
       "      <td>0.566117</td>\n",
       "      <td>0.875862</td>\n",
       "      <td>0.418594</td>\n",
       "      <td>0.636438</td>\n",
       "      <td>green</td>\n",
       "      <td>Ghost</td>\n",
       "    </tr>\n",
       "  </tbody>\n",
       "</table>\n",
       "</div>"
      ],
      "text/plain": [
       "   id  bone_length  rotting_flesh  hair_length  has_soul  color    type\n",
       "0   0     0.354512       0.350839     0.465761  0.781142  clear   Ghoul\n",
       "1   1     0.575560       0.425868     0.531401  0.439899  green  Goblin\n",
       "2   2     0.467875       0.354330     0.811616  0.791225  black   Ghoul\n",
       "3   4     0.776652       0.508723     0.636766  0.884464  black   Ghoul\n",
       "4   5     0.566117       0.875862     0.418594  0.636438  green   Ghost"
      ]
     },
     "execution_count": 2,
     "metadata": {},
     "output_type": "execute_result"
    }
   ],
   "source": [
    "# Data cleanup\n",
    "# TRAIN DATA\n",
    "os.chdir(os.path.expanduser(\"~/Dropbox/Projects/data/kaggle/ghouls/\"))\n",
    "train = pd.read_csv('train.csv', header=0)        # Load the train file into a dataframe\n",
    "test = pd.read_csv('test.csv', header=0)\n",
    "train.head()"
   ]
  },
  {
   "cell_type": "code",
   "execution_count": 3,
   "metadata": {
    "collapsed": false,
    "scrolled": true
   },
   "outputs": [
    {
     "data": {
      "text/plain": [
       "id                 int64\n",
       "bone_length      float64\n",
       "rotting_flesh    float64\n",
       "hair_length      float64\n",
       "has_soul         float64\n",
       "color             object\n",
       "type              object\n",
       "dtype: object"
      ]
     },
     "execution_count": 3,
     "metadata": {},
     "output_type": "execute_result"
    }
   ],
   "source": [
    "train.dtypes"
   ]
  },
  {
   "cell_type": "code",
   "execution_count": 4,
   "metadata": {
    "collapsed": false,
    "scrolled": true
   },
   "outputs": [
    {
     "data": {
      "text/plain": [
       "array(['bone_length', 'hair_length', 'has_soul', 'rotting_flesh'], dtype=object)"
      ]
     },
     "execution_count": 4,
     "metadata": {},
     "output_type": "execute_result"
    }
   ],
   "source": [
    "con_all = train.select_dtypes(include=['float64', 'int64']).columns.values\n",
    "outcome = np.array(['id'])\n",
    "con = np.setdiff1d(con_all, outcome)\n",
    "con"
   ]
  },
  {
   "cell_type": "code",
   "execution_count": 5,
   "metadata": {
    "collapsed": false
   },
   "outputs": [
    {
     "data": {
      "text/plain": [
       "id               371\n",
       "bone_length      371\n",
       "rotting_flesh    371\n",
       "hair_length      371\n",
       "has_soul         371\n",
       "color            371\n",
       "type             371\n",
       "dtype: int64"
      ]
     },
     "execution_count": 5,
     "metadata": {},
     "output_type": "execute_result"
    }
   ],
   "source": [
    "train.count()"
   ]
  },
  {
   "cell_type": "code",
   "execution_count": 6,
   "metadata": {
    "collapsed": false
   },
   "outputs": [
    {
     "data": {
      "text/plain": [
       "array(['color'], dtype=object)"
      ]
     },
     "execution_count": 6,
     "metadata": {},
     "output_type": "execute_result"
    }
   ],
   "source": [
    "cat_all = train.select_dtypes(include=['object']).columns.values\n",
    "outcome = np.array(['type'])\n",
    "cat = np.setdiff1d(cat_all, outcome)\n",
    "cat"
   ]
  },
  {
   "cell_type": "code",
   "execution_count": 11,
   "metadata": {
    "collapsed": false
   },
   "outputs": [
    {
     "data": {
      "text/plain": [
       "white    137\n",
       "clear    120\n",
       "green     42\n",
       "black     41\n",
       "blue      19\n",
       "blood     12\n",
       "Name: color, dtype: int64"
      ]
     },
     "execution_count": 11,
     "metadata": {},
     "output_type": "execute_result"
    }
   ],
   "source": [
    "train.color.value_counts()"
   ]
  },
  {
   "cell_type": "code",
   "execution_count": 7,
   "metadata": {
    "collapsed": true
   },
   "outputs": [],
   "source": [
    "le = LabelEncoder()\n",
    "for v in cat:\n",
    "    le.fit(train[v].append(test[v], ignore_index=True))\n",
    "#     print list(le.classes_)\n",
    "    train[v] = le.transform(train[v])\n",
    "    test[v] = le.transform(test[v])"
   ]
  },
  {
   "cell_type": "code",
   "execution_count": 8,
   "metadata": {
    "collapsed": true
   },
   "outputs": [],
   "source": [
    "enc = OneHotEncoder()\n",
    "\n",
    "enc.fit(train[cat].append(test[cat], ignore_index=True))\n",
    "train_cat = enc.transform(train[cat]).toarray()\n",
    "test_cat = enc.transform(test[cat]).toarray()"
   ]
  },
  {
   "cell_type": "code",
   "execution_count": 9,
   "metadata": {
    "collapsed": true
   },
   "outputs": [],
   "source": [
    "train_con = train[con]\n",
    "test_con = test[con]"
   ]
  },
  {
   "cell_type": "code",
   "execution_count": 10,
   "metadata": {
    "collapsed": true
   },
   "outputs": [],
   "source": [
    "X_train = np.concatenate((train_cat, train_con), axis=1)\n",
    "X_test = np.concatenate((test_cat, test_con), axis=1)"
   ]
  },
  {
   "cell_type": "code",
   "execution_count": 11,
   "metadata": {
    "collapsed": false
   },
   "outputs": [
    {
     "name": "stdout",
     "output_type": "stream",
     "text": [
      "['Ghost', 'Ghoul', 'Goblin']\n"
     ]
    },
    {
     "data": {
      "text/plain": [
       "array([1, 2, 1, 1, 0, 2, 2, 1, 0, 0, 2, 1, 1, 2, 2, 1, 0, 1, 1, 0, 2, 1, 2,\n",
       "       1, 1, 0, 2, 2, 2, 2, 1, 0, 2, 2, 1, 0, 0, 1, 1, 0, 1, 0, 0, 2, 1, 2,\n",
       "       1, 0, 2, 2, 1, 1, 0, 2, 0, 2, 0, 2, 0, 1, 2, 2, 1, 2, 1, 0, 0, 1, 0,\n",
       "       1, 1, 0, 0, 1, 1, 2, 2, 0, 1, 1, 0, 0, 0, 2, 0, 2, 1, 2, 1, 1, 0, 1,\n",
       "       2, 1, 2, 2, 0, 2, 2, 0, 0, 0, 0, 2, 2, 0, 1, 2, 2, 1, 0, 2, 1, 0, 2,\n",
       "       0, 0, 2, 0, 1, 2, 2, 0, 2, 1, 0, 0, 2, 1, 1, 1, 1, 1, 2, 2, 1, 2, 2,\n",
       "       2, 1, 2, 2, 0, 2, 1, 0, 0, 2, 2, 2, 0, 0, 0, 1, 0, 1, 2, 2, 0, 0, 0,\n",
       "       2, 2, 1, 2, 2, 1, 2, 0, 0, 2, 0, 2, 0, 0, 0, 1, 0, 2, 1, 0, 0, 1, 0,\n",
       "       2, 2, 0, 0, 0, 1, 1, 2, 1, 0, 2, 1, 1, 2, 0, 0, 1, 1, 1, 2, 0, 0, 1,\n",
       "       2, 2, 2, 2, 1, 2, 0, 2, 1, 1, 0, 0, 1, 0, 2, 2, 1, 2, 1, 1, 2, 0, 1,\n",
       "       1, 2, 1, 1, 2, 2, 2, 1, 1, 2, 1, 1, 0, 0, 0, 0, 0, 0, 1, 1, 2, 0, 1,\n",
       "       2, 0, 0, 1, 0, 1, 2, 0, 0, 2, 0, 2, 2, 0, 0, 2, 2, 2, 0, 0, 1, 1, 2,\n",
       "       0, 0, 2, 1, 2, 1, 1, 0, 1, 0, 2, 1, 1, 1, 0, 1, 1, 0, 1, 1, 2, 0, 2,\n",
       "       0, 0, 2, 0, 1, 1, 1, 1, 1, 1, 2, 1, 2, 1, 2, 2, 2, 1, 2, 1, 1, 2, 0,\n",
       "       0, 2, 1, 1, 1, 1, 0, 1, 1, 0, 2, 0, 2, 0, 0, 1, 1, 1, 2, 2, 1, 2, 0,\n",
       "       1, 2, 0, 2, 1, 0, 2, 1, 2, 0, 2, 2, 1, 0, 1, 1, 1, 2, 0, 2, 1, 2, 0,\n",
       "       1, 0, 1])"
      ]
     },
     "execution_count": 11,
     "metadata": {},
     "output_type": "execute_result"
    }
   ],
   "source": [
    "Y_train = train.type\n",
    "\n",
    "le.fit(Y_train)\n",
    "Y_train = le.transform(Y_train)\n",
    "print list(le.classes_)\n",
    "Y_train"
   ]
  },
  {
   "cell_type": "code",
   "execution_count": 10,
   "metadata": {
    "collapsed": false,
    "scrolled": true
   },
   "outputs": [
    {
     "data": {
      "text/plain": [
       "Ghoul     129\n",
       "Goblin    125\n",
       "Ghost     117\n",
       "Name: type, dtype: int64"
      ]
     },
     "execution_count": 10,
     "metadata": {},
     "output_type": "execute_result"
    }
   ],
   "source": [
    "train.type.value_counts()"
   ]
  },
  {
   "cell_type": "code",
   "execution_count": 23,
   "metadata": {
    "collapsed": false
   },
   "outputs": [
    {
     "name": "stdout",
     "output_type": "stream",
     "text": [
      "Done.\n"
     ]
    }
   ],
   "source": [
    "from sklearn.multiclass import OneVsRestClassifier\n",
    "from sklearn.svm import LinearSVC\n",
    "output = OneVsRestClassifier(LinearSVC(random_state=0)).fit(X_train, Y_train).predict(X_test)\n",
    "# output\n",
    "\n",
    "outdf = pd.DataFrame()\n",
    "outdf['id'] = test['id']\n",
    "outdf['type'] = le.inverse_transform(output)\n",
    "outdf.to_csv('submissions/onevstherest_linearsvc.csv', index=False)\n",
    "print 'Done.'"
   ]
  },
  {
   "cell_type": "code",
   "execution_count": 25,
   "metadata": {
    "collapsed": false
   },
   "outputs": [
    {
     "name": "stdout",
     "output_type": "stream",
     "text": [
      "Done.\n"
     ]
    }
   ],
   "source": [
    "from sklearn.multiclass import OneVsRestClassifier\n",
    "from sklearn.svm import SVC\n",
    "output = OneVsRestClassifier(SVC(kernel='linear')).fit(X_train, Y_train).predict(X_test)\n",
    "# output\n",
    "\n",
    "outdf = pd.DataFrame()\n",
    "outdf['id'] = test['id']\n",
    "outdf['type'] = le.inverse_transform(output)\n",
    "outdf.to_csv('submissions/onevstherest_svc.csv', index=False)\n",
    "print 'Done.'"
   ]
  },
  {
   "cell_type": "code",
   "execution_count": 26,
   "metadata": {
    "collapsed": false
   },
   "outputs": [
    {
     "name": "stdout",
     "output_type": "stream",
     "text": [
      "Done.\n"
     ]
    }
   ],
   "source": [
    "from sklearn.multiclass import OneVsRestClassifier\n",
    "from sklearn.ensemble import RandomForestClassifier\n",
    "\n",
    "output = OneVsRestClassifier(RandomForestClassifier(n_estimators=100)).fit(X_train, Y_train).predict(X_test)\n",
    "# output\n",
    "\n",
    "outdf = pd.DataFrame()\n",
    "outdf['id'] = test['id']\n",
    "outdf['type'] = le.inverse_transform(output)\n",
    "outdf.to_csv('submissions/onevstherest_rf.csv', index=False)\n",
    "print 'Done.'"
   ]
  },
  {
   "cell_type": "code",
   "execution_count": 27,
   "metadata": {
    "collapsed": false
   },
   "outputs": [
    {
     "name": "stdout",
     "output_type": "stream",
     "text": [
      "Done.\n"
     ]
    }
   ],
   "source": [
    "from sklearn.multiclass import OneVsRestClassifier\n",
    "from sklearn.ensemble import GradientBoostingClassifier\n",
    "\n",
    "output = OneVsRestClassifier(GradientBoostingClassifier(n_estimators=100)).fit(X_train, Y_train).predict(X_test)\n",
    "# output\n",
    "\n",
    "outdf = pd.DataFrame()\n",
    "outdf['id'] = test['id']\n",
    "outdf['type'] = le.inverse_transform(output)\n",
    "outdf.to_csv('submissions/onevstherest_gbm.csv', index=False)\n",
    "print 'Done.'"
   ]
  },
  {
   "cell_type": "code",
   "execution_count": 22,
   "metadata": {
    "collapsed": false
   },
   "outputs": [
    {
     "name": "stdout",
     "output_type": "stream",
     "text": [
      "Done.\n"
     ]
    }
   ],
   "source": [
    "from sklearn.multiclass import OneVsOneClassifier\n",
    "from sklearn.svm import LinearSVC\n",
    "output = OneVsOneClassifier(LinearSVC(random_state=0)).fit(X_train, Y_train).predict(X_test)\n",
    "# output\n",
    "\n",
    "outdf = pd.DataFrame()\n",
    "outdf['id'] = test['id']\n",
    "outdf['type'] = le.inverse_transform(output)\n",
    "outdf.to_csv('submissions/onevsone_linearsvc.csv', index=False)\n",
    "print 'Done.'"
   ]
  },
  {
   "cell_type": "code",
   "execution_count": null,
   "metadata": {
    "collapsed": true
   },
   "outputs": [],
   "source": []
  },
  {
   "cell_type": "code",
   "execution_count": null,
   "metadata": {
    "collapsed": true
   },
   "outputs": [],
   "source": []
  }
 ],
 "metadata": {
  "kernelspec": {
   "display_name": "Python 2",
   "language": "python",
   "name": "python2"
  },
  "language_info": {
   "codemirror_mode": {
    "name": "ipython",
    "version": 2
   },
   "file_extension": ".py",
   "mimetype": "text/x-python",
   "name": "python",
   "nbconvert_exporter": "python",
   "pygments_lexer": "ipython2",
   "version": "2.7.12"
  }
 },
 "nbformat": 4,
 "nbformat_minor": 0
}
