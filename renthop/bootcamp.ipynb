{
 "cells": [
  {
   "cell_type": "code",
   "execution_count": 48,
   "metadata": {
    "collapsed": false
   },
   "outputs": [
    {
     "name": "stdout",
     "output_type": "stream",
     "text": [
      "time: 4.85 ms\n"
     ]
    }
   ],
   "source": [
    "import pandas as pd\n",
    "import numpy as np\n",
    "import csv as csv\n",
    "import os\n",
    "import re\n",
    "from sklearn.ensemble import RandomForestClassifier\n",
    "from sklearn.ensemble import GradientBoostingClassifier\n",
    "from sklearn.preprocessing import OneHotEncoder\n",
    "from sklearn.preprocessing import LabelEncoder\n",
    "pd.set_option('display.max_colwidth', -1)\n",
    "%matplotlib inline"
   ]
  },
  {
   "cell_type": "code",
   "execution_count": 16,
   "metadata": {
    "collapsed": false
   },
   "outputs": [
    {
     "name": "stdout",
     "output_type": "stream",
     "text": [
      "The autotime extension is already loaded. To reload it, use:\n",
      "  %reload_ext autotime\n",
      "time: 1.13 ms\n"
     ]
    }
   ],
   "source": [
    "# %install_ext https://raw.github.com/cpcloud/ipython-autotime/master/autotime.py\n",
    "%load_ext autotime"
   ]
  },
  {
   "cell_type": "code",
   "execution_count": 13,
   "metadata": {
    "collapsed": false
   },
   "outputs": [
    {
     "data": {
      "text/html": [
       "<div>\n",
       "<table border=\"1\" class=\"dataframe\">\n",
       "  <thead>\n",
       "    <tr style=\"text-align: right;\">\n",
       "      <th></th>\n",
       "      <th>bathrooms</th>\n",
       "      <th>bedrooms</th>\n",
       "      <th>building_id</th>\n",
       "      <th>created</th>\n",
       "      <th>description</th>\n",
       "      <th>display_address</th>\n",
       "      <th>features</th>\n",
       "      <th>interest_level</th>\n",
       "      <th>latitude</th>\n",
       "      <th>listing_id</th>\n",
       "      <th>longitude</th>\n",
       "      <th>manager_id</th>\n",
       "      <th>photos</th>\n",
       "      <th>price</th>\n",
       "      <th>street_address</th>\n",
       "    </tr>\n",
       "  </thead>\n",
       "  <tbody>\n",
       "    <tr>\n",
       "      <th>10</th>\n",
       "      <td>1.5</td>\n",
       "      <td>3</td>\n",
       "      <td>53a5b119ba8f7b61d4e010512e0dfc85</td>\n",
       "      <td>2016-06-24 07:54:24</td>\n",
       "      <td>A Brand New 3 Bedroom 1.5 bath ApartmentEnjoy These Following Apartment Features As You Rent Here? Modern Designed Bathroom w/ a Deep Spa Soaking Tub? Room to Room AC/Heat? Real Oak Hardwood Floors? Rain Forest Shower Head? SS steel Appliances w/ Chef Gas Cook Oven &amp; LG Fridge? washer /dryer in the apt? Cable Internet Ready? Granite Counter Top Kitchen w/ lot of cabinet storage spaceIt's Just A Few blocks To L Train&lt;br /&gt;&lt;br /&gt;Don't miss out!&lt;br /&gt;&lt;br /&gt;We have several great apartments in the immediate area.&lt;br /&gt;&lt;br /&gt;For additional information 687-878-2229&lt;p&gt;&lt;a  website_redacted</td>\n",
       "      <td>Metropolitan Avenue</td>\n",
       "      <td>[]</td>\n",
       "      <td>medium</td>\n",
       "      <td>40.7145</td>\n",
       "      <td>7211212</td>\n",
       "      <td>-73.9425</td>\n",
       "      <td>5ba989232d0489da1b5f2c45f6688adc</td>\n",
       "      <td>[https://photos.renthop.com/2/7211212_1ed4542ec81621d70d1061aa833e669c.jpg, https://photos.renthop.com/2/7211212_7dfc41dced69245065df83d08eed4a00.jpg, https://photos.renthop.com/2/7211212_c17853c4b869af6f53af08b0f5820b4c.jpg, https://photos.renthop.com/2/7211212_787ad8ea0c089792e7453e2121f8ac89.jpg, https://photos.renthop.com/2/7211212_2e88b0d293ee333c804c2f00536eee49.jpg]</td>\n",
       "      <td>3000</td>\n",
       "      <td>792 Metropolitan Avenue</td>\n",
       "    </tr>\n",
       "    <tr>\n",
       "      <th>10000</th>\n",
       "      <td>1.0</td>\n",
       "      <td>2</td>\n",
       "      <td>c5c8a357cba207596b04d1afd1e4f130</td>\n",
       "      <td>2016-06-12 12:19:27</td>\n",
       "      <td></td>\n",
       "      <td>Columbus Avenue</td>\n",
       "      <td>[Doorman, Elevator, Fitness Center, Cats Allowed, Dogs Allowed]</td>\n",
       "      <td>low</td>\n",
       "      <td>40.7947</td>\n",
       "      <td>7150865</td>\n",
       "      <td>-73.9667</td>\n",
       "      <td>7533621a882f71e25173b27e3139d83d</td>\n",
       "      <td>[https://photos.renthop.com/2/7150865_be3306c5d89c6bfa755c6e89c9ed64d5.jpg, https://photos.renthop.com/2/7150865_655f861a1d5da70050010611016ae2ad.jpg, https://photos.renthop.com/2/7150865_5b8cc459f3abd38bc81cbf329dab3220.jpg, https://photos.renthop.com/2/7150865_2f59c34ca4ea98c26d559109a467ef84.jpg, https://photos.renthop.com/2/7150865_2258d2eb5b5fb4bc0eb6534929cdee15.jpg, https://photos.renthop.com/2/7150865_af28a5075bd321e694791645423dcdde.jpg, https://photos.renthop.com/2/7150865_714a3d63488162ebe4a22896dd5138f7.jpg, https://photos.renthop.com/2/7150865_8dda0ecbe4c6015d3e8dffe16808aa0b.jpg, https://photos.renthop.com/2/7150865_c4aabf346e295afda87d13c16f6f5659.jpg, https://photos.renthop.com/2/7150865_2de68908ea943dd96c925490c7f98297.jpg, https://photos.renthop.com/2/7150865_fc18c2e84683b567c9568ed7597f1ba8.jpg]</td>\n",
       "      <td>5465</td>\n",
       "      <td>808 Columbus Avenue</td>\n",
       "    </tr>\n",
       "  </tbody>\n",
       "</table>\n",
       "</div>"
      ],
      "text/plain": [
       "       bathrooms  bedrooms                       building_id  \\\n",
       "10     1.5        3         53a5b119ba8f7b61d4e010512e0dfc85   \n",
       "10000  1.0        2         c5c8a357cba207596b04d1afd1e4f130   \n",
       "\n",
       "                  created  \\\n",
       "10    2016-06-24 07:54:24   \n",
       "10000 2016-06-12 12:19:27   \n",
       "\n",
       "                                                                                                                                                                                                                                                                                                                                                                                                                                                                                                                                                                                                        description  \\\n",
       "10     A Brand New 3 Bedroom 1.5 bath ApartmentEnjoy These Following Apartment Features As You Rent Here? Modern Designed Bathroom w/ a Deep Spa Soaking Tub? Room to Room AC/Heat? Real Oak Hardwood Floors? Rain Forest Shower Head? SS steel Appliances w/ Chef Gas Cook Oven & LG Fridge? washer /dryer in the apt? Cable Internet Ready? Granite Counter Top Kitchen w/ lot of cabinet storage spaceIt's Just A Few blocks To L Train<br /><br />Don't miss out!<br /><br />We have several great apartments in the immediate area.<br /><br />For additional information 687-878-2229<p><a  website_redacted    \n",
       "10000                                                                                                                                                                                                                                                                                                                                                                                                                                                                                                                                                                                                                 \n",
       "\n",
       "           display_address  \\\n",
       "10     Metropolitan Avenue   \n",
       "10000  Columbus Avenue       \n",
       "\n",
       "                                                              features  \\\n",
       "10     []                                                                \n",
       "10000  [Doorman, Elevator, Fitness Center, Cats Allowed, Dogs Allowed]   \n",
       "\n",
       "      interest_level  latitude  listing_id  longitude  \\\n",
       "10     medium         40.7145   7211212    -73.9425     \n",
       "10000  low            40.7947   7150865    -73.9667     \n",
       "\n",
       "                             manager_id  \\\n",
       "10     5ba989232d0489da1b5f2c45f6688adc   \n",
       "10000  7533621a882f71e25173b27e3139d83d   \n",
       "\n",
       "                                                                                                                                                                                                                                                                                                                                                                                                                                                                                                                                                                                                                                                                                                                                                                                                                                                          photos  \\\n",
       "10     [https://photos.renthop.com/2/7211212_1ed4542ec81621d70d1061aa833e669c.jpg, https://photos.renthop.com/2/7211212_7dfc41dced69245065df83d08eed4a00.jpg, https://photos.renthop.com/2/7211212_c17853c4b869af6f53af08b0f5820b4c.jpg, https://photos.renthop.com/2/7211212_787ad8ea0c089792e7453e2121f8ac89.jpg, https://photos.renthop.com/2/7211212_2e88b0d293ee333c804c2f00536eee49.jpg]                                                                                                                                                                                                                                                                                                                                                                                                                                                                     \n",
       "10000  [https://photos.renthop.com/2/7150865_be3306c5d89c6bfa755c6e89c9ed64d5.jpg, https://photos.renthop.com/2/7150865_655f861a1d5da70050010611016ae2ad.jpg, https://photos.renthop.com/2/7150865_5b8cc459f3abd38bc81cbf329dab3220.jpg, https://photos.renthop.com/2/7150865_2f59c34ca4ea98c26d559109a467ef84.jpg, https://photos.renthop.com/2/7150865_2258d2eb5b5fb4bc0eb6534929cdee15.jpg, https://photos.renthop.com/2/7150865_af28a5075bd321e694791645423dcdde.jpg, https://photos.renthop.com/2/7150865_714a3d63488162ebe4a22896dd5138f7.jpg, https://photos.renthop.com/2/7150865_8dda0ecbe4c6015d3e8dffe16808aa0b.jpg, https://photos.renthop.com/2/7150865_c4aabf346e295afda87d13c16f6f5659.jpg, https://photos.renthop.com/2/7150865_2de68908ea943dd96c925490c7f98297.jpg, https://photos.renthop.com/2/7150865_fc18c2e84683b567c9568ed7597f1ba8.jpg]   \n",
       "\n",
       "       price           street_address  \n",
       "10     3000   792 Metropolitan Avenue  \n",
       "10000  5465   808 Columbus Avenue      "
      ]
     },
     "execution_count": 13,
     "metadata": {},
     "output_type": "execute_result"
    }
   ],
   "source": [
    "# Data cleanup\n",
    "# TRAIN DATA\n",
    "os.chdir(os.path.expanduser(\"~/Dropbox/Projects/data/kaggle/renthop/\"))\n",
    "train = pd.read_json('train.json', convert_dates=['created'])        # Load the train file into a dataframe\n",
    "test = pd.read_json('test.json', convert_dates=['created'])\n",
    "train.head(2)"
   ]
  },
  {
   "cell_type": "code",
   "execution_count": 14,
   "metadata": {
    "collapsed": false,
    "scrolled": true
   },
   "outputs": [
    {
     "data": {
      "text/plain": [
       "bathrooms          float64       \n",
       "bedrooms           int64         \n",
       "building_id        object        \n",
       "created            datetime64[ns]\n",
       "description        object        \n",
       "display_address    object        \n",
       "features           object        \n",
       "interest_level     object        \n",
       "latitude           float64       \n",
       "listing_id         int64         \n",
       "longitude          float64       \n",
       "manager_id         object        \n",
       "photos             object        \n",
       "price              int64         \n",
       "street_address     object        \n",
       "dtype: object"
      ]
     },
     "execution_count": 14,
     "metadata": {},
     "output_type": "execute_result"
    }
   ],
   "source": [
    "train.dtypes"
   ]
  },
  {
   "cell_type": "markdown",
   "metadata": {},
   "source": [
    "## String features"
   ]
  },
  {
   "cell_type": "code",
   "execution_count": 20,
   "metadata": {
    "collapsed": false
   },
   "outputs": [
    {
     "data": {
      "text/plain": [
       "10       A Brand New 3 Bedroom 1.5 bath ApartmentEnjoy These Following Apartment Features As You Rent Here? Modern Designed Bathroom w/ a Deep Spa Soaking Tub? Room to Room AC/Heat? Real Oak Hardwood Floors? Rain Forest Shower Head? SS steel Appliances w/ Chef Gas Cook Oven & LG Fridge? washer /dryer in the apt? Cable Internet Ready? Granite Counter Top Kitchen w/ lot of cabinet storage spaceIt's Just A Few blocks To L Train<br /><br />Don't miss out!<br /><br />We have several great apartments in the immediate area.<br /><br />For additional information 687-878-2229<p><a  website_redacted \n",
       "10000                                                                                                                                                                                                                                                                                                                                                                                                                                                                                                                                                                                                                \n",
       "Name: description, dtype: object"
      ]
     },
     "execution_count": 20,
     "metadata": {},
     "output_type": "execute_result"
    },
    {
     "name": "stdout",
     "output_type": "stream",
     "text": [
      "time: 3.36 ms\n"
     ]
    }
   ],
   "source": [
    "train.description.head(2)"
   ]
  },
  {
   "cell_type": "code",
   "execution_count": 30,
   "metadata": {
    "collapsed": false
   },
   "outputs": [
    {
     "name": "stdout",
     "output_type": "stream",
     "text": [
      "time: 101 ms\n"
     ]
    }
   ],
   "source": [
    "# count of paragraphs for clarity of formating\n",
    "train['br_count'] = train.description.str.count('<br />')"
   ]
  },
  {
   "cell_type": "code",
   "execution_count": 40,
   "metadata": {
    "collapsed": false,
    "scrolled": true
   },
   "outputs": [
    {
     "name": "stdout",
     "output_type": "stream",
     "text": [
      "time: 15.9 ms\n"
     ]
    }
   ],
   "source": [
    "train['description_length'] = train.description.str.len()\n",
    "# train['feature_length'] = train.description.str.len()"
   ]
  },
  {
   "cell_type": "code",
   "execution_count": 33,
   "metadata": {
    "collapsed": false
   },
   "outputs": [
    {
     "data": {
      "text/plain": [
       "10        []                                                                           \n",
       "10000     [Doorman, Elevator, Fitness Center, Cats Allowed, Dogs Allowed]              \n",
       "100004    [Laundry In Building, Dishwasher, Hardwood Floors, Pets Allowed Case by Case]\n",
       "100007    [Hardwood Floors, No Fee]                                                    \n",
       "100013    [Pre-War]                                                                    \n",
       "Name: features, dtype: object"
      ]
     },
     "execution_count": 33,
     "metadata": {},
     "output_type": "execute_result"
    },
    {
     "name": "stdout",
     "output_type": "stream",
     "text": [
      "time: 4.04 ms\n"
     ]
    }
   ],
   "source": [
    "train.features.head()"
   ]
  },
  {
   "cell_type": "code",
   "execution_count": 38,
   "metadata": {
    "collapsed": false,
    "scrolled": true
   },
   "outputs": [
    {
     "name": "stdout",
     "output_type": "stream",
     "text": [
      "time: 20.2 ms\n"
     ]
    }
   ],
   "source": [
    "train['feature_count'] = train.features.str.len()\n",
    "\n",
    "train['photo_count'] = train.photos.str.len()"
   ]
  },
  {
   "cell_type": "code",
   "execution_count": 43,
   "metadata": {
    "collapsed": false
   },
   "outputs": [
    {
     "name": "stdout",
     "output_type": "stream",
     "text": [
      "time: 10.1 s\n"
     ]
    }
   ],
   "source": [
    "feature_list = list(set(train.features.apply(pd.Series).stack().tolist()))"
   ]
  },
  {
   "cell_type": "code",
   "execution_count": 46,
   "metadata": {
    "collapsed": false
   },
   "outputs": [
    {
     "name": "stdout",
     "output_type": "stream",
     "text": [
      "1556\n"
     ]
    },
    {
     "data": {
      "text/plain": [
       "[u'Updated Kitchen and Bathroom',\n",
       " u'Gym Fitness Lounge Swimming Pool Sun Decks Exercise Studios Indoor Half-Basketball Court',\n",
       " u'Gas&Electric included',\n",
       " u'private-outdoor-space',\n",
       " u'Great Natural Light',\n",
       " u'Super On Site',\n",
       " u'Vaulted Ceilings',\n",
       " u'custom lighting',\n",
       " u'Diswasher',\n",
       " u'Brand Newm Outdoor Deck',\n",
       " u'STAINLESS STEEL',\n",
       " u'central air',\n",
       " u'Central Park 1/2 block away!',\n",
       " u'** HOLY DEAL BATMAN! * ENTIRE FLOOR! * MASSIVE 4BR MANSION * GOURMET KITCHEN * PETS OK **',\n",
       " u'** PRISTINE PREWAR GEM! * MASSIVE 3BR SUPER SHARE * GUT RENOVATED * CHEF;S KITCHEN * ELEV BLDG * PETS OK **',\n",
       " u'2nd Ave',\n",
       " u'Sun Drenched',\n",
       " u'Pets: Case by case',\n",
       " u'fireplace',\n",
       " u'must see',\n",
       " u'** PRISTINE PARK AVE S LOFT! * MASSIVE 3BR MANSION * WALLS OF WINDOWS * CHEF INSPIRED KITCHEN * ELEV BLDG **',\n",
       " u'Sun deck',\n",
       " u'Doorman',\n",
       " u'laundry in building',\n",
       " u'amazing detail',\n",
       " u'New Renovation',\n",
       " u'Pets Allowed Case by Case',\n",
       " u'King-Sized Bedroom',\n",
       " u'EXPOSED BRICK',\n",
       " u'on-sites super',\n",
       " u'Laundry in Some Units',\n",
       " u'building-common-outdoor-space',\n",
       " u'S/S Appliances',\n",
       " u'onsite valet',\n",
       " u'Mint Condition',\n",
       " u'heated lap pool',\n",
       " u'hardwood floors',\n",
       " u'Available 05/01/16',\n",
       " u'** REAL NO FEE! * MASSIVE TRUE 2BR SUPER SHARE * ALL MODERN & NEW * EAT-IN KITCHEN * 2 BLKS TO THE TRAIN **',\n",
       " u'hardwood  floors',\n",
       " u'Air Condition',\n",
       " u'Cinema Room',\n",
       " u'at an additional cost.',\n",
       " u'Furnished',\n",
       " u'On-site parking available',\n",
       " u'Dining room',\n",
       " u'Pets allowed',\n",
       " u'High Speed Internet Available',\n",
       " u'3 AC',\n",
       " u'shuttle service to subway',\n",
       " u'Indoor parking',\n",
       " u'Renovated',\n",
       " u'Hardwood Flooring Throughout',\n",
       " u'** W50s WONDER! * MASSIVE 1BR HOME * MR CLEAN APPROVED * GOURMET KITCHEN * ROOMY CLOSETS * NEAR CENTRAL PARK! **',\n",
       " u'Exposed Brick',\n",
       " u'misting shower and resident lounge available.',\n",
       " u'Multi-level',\n",
       " u'24-Hour Attended lobby',\n",
       " u'Overlooks Garden',\n",
       " u'FT Doorman',\n",
       " u'Washer/Dryer In-Unit',\n",
       " u'Custom murals on the ceiling and living room wall. Painted my a local artist.',\n",
       " u'Garage Parking',\n",
       " u'Window Bath',\n",
       " u'custom window treatments',\n",
       " u'exclusive residential lounge & Caf\\xe9 \\u2022 Spacious and breathtaking fully landscaped 10',\n",
       " u'Bike Storage',\n",
       " u'ALL UTILITIES INCLUDED!!',\n",
       " u'The Most Sought after Location',\n",
       " u'** NO FEE BABY! * MASSIVE 2BR w/TERRACE * GOURMET SS KITCHEN * ELEV/LNDRY BLDG * SCENIC ROOF DECK * 3 BLKS TO TRAIN **',\n",
       " u'NO FEE!!!Roof Deck',\n",
       " u'live in super',\n",
       " u'ceiling-fan. 3Lg closets',\n",
       " u'LINOLEUM',\n",
       " u'high ceilings.',\n",
       " u'Guarantors Accepted',\n",
       " u'Tenant pays for electric!',\n",
       " u'Private balcony',\n",
       " u'Breakfast Bar',\n",
       " u'fully equipped chef\\u2019s kitchen with private roof deck',\n",
       " u'Separate Kitchen',\n",
       " u'High ceilings',\n",
       " u'deck',\n",
       " u'Storage space',\n",
       " u'XXL Windows',\n",
       " u'New Construction',\n",
       " u'Stainless Steel Full Size Appliances.',\n",
       " u'CLOSETS GALORE!',\n",
       " u'air conditioned laundry facility',\n",
       " u'** ELEGANT E50s & PARK BABY! * MASSIVE 4BR MANSION * NO BROKER FEE * DISHWASHER * WALLS OF WINDOWS * ELEV BLDG **',\n",
       " u'Lots of Light',\n",
       " u'Yoga Room',\n",
       " u'Wonderful 2 bed in WV   Grab it or Grieve it..xoxo',\n",
       " u'Huge Rooms',\n",
       " u'Pets: Cats/Small Dogs',\n",
       " u'BBQs!',\n",
       " u'BRAND NEW SS APPLIANCES',\n",
       " u'high floor unit',\n",
       " u'Laundry in building',\n",
       " u'Queen Sized Bedrooms',\n",
       " u'soaking tub',\n",
       " u'Spacious Living Room',\n",
       " u'Standard on-site parking',\n",
       " u'Large & Medium Storage',\n",
       " u'Attended garage',\n",
       " u'55th & 6th ave',\n",
       " u'24/7 Fitness Center',\n",
       " u'ELEVATOR/LAUNDRY/ SO CLOSE TO THE 6 $2450!!',\n",
       " u'Washer/Dryer in Bldg',\n",
       " u'** ENTIRE FLOOR! * SPRAWLING 2BR HOME * IMMACULATE RENOVATIONS * FIREPLACE * 2 BLKS TO BEDFORD L STOP **',\n",
       " u'Catering Facility',\n",
       " u'Double height lobby French limestone and Rojo Alicante marble',\n",
       " u'000-square foot sun deck\\u2022 Free WiFi in Marc Club',\n",
       " u\"** OVERSIZED & UNDERPRICED NO FEE * SPRAWLING 3BR SUPER SHARE * SEPARATE COOK'S KITCHEN * WALLS OF WINDOWS * 2 BLKS TO TRAIN **\",\n",
       " u'prewar',\n",
       " u'Bright spacious 2 BR/1BA',\n",
       " u'** CHIC CHELSEA FIND! * MASSIVE 4BR HOME * 2 FULL BATHS * CHEF INSPIRED KITCHEN * ELEV THAT OPENS INTO APT * CATS OK **',\n",
       " u'Sauna',\n",
       " u'Courtyard',\n",
       " u'Convertible 1br',\n",
       " u'Complimentary breakfast on weekdays',\n",
       " u'Sun/Roofdeck',\n",
       " u'King Size Bedroom',\n",
       " u'All Utilities Included',\n",
       " u'Mins From Train',\n",
       " u'REAL WALL ALLOWED',\n",
       " u'Quiet Neighborhood',\n",
       " u'Extra Storage',\n",
       " u'On-site Laundry',\n",
       " u'Heat & Water Included',\n",
       " u'GROUND FLOOR',\n",
       " u'1.5 Bath',\n",
       " u'Eat-in kitchen',\n",
       " u'Pilates and training room.',\n",
       " u'renovated',\n",
       " u'Hot Water Included',\n",
       " u'elevator',\n",
       " u'1200sq ft',\n",
       " u'Outdoor BBQs',\n",
       " u'Rentable',\n",
       " u'electronic keycard',\n",
       " u'** SUPER SWEET 1BR HOME * ELEGANT E60s! * MR CLEAN APPROVED * CHEF INSPIRED KITCHEN * TONS OF NATURAL LIGHT! * CATS OK **',\n",
       " u'Sorry no pets',\n",
       " u'over sized apartment',\n",
       " u'and stainless steel appliances with a dishwasher well maintained hardwood floors add to the warmth and modern feel of the space.',\n",
       " u'gym',\n",
       " u'Spin Room',\n",
       " u'$600 gift card for Move-ins prior to June 19',\n",
       " u\"two en-suite balcony's.\",\n",
       " u'Deco Brick Wall',\n",
       " u'direct bus line to ferry',\n",
       " u'Photos of actual apartment',\n",
       " u'9th floor manhattan views',\n",
       " u'stainless steel appliances',\n",
       " u'Wheelchair Ramp',\n",
       " u'INDOOR GARAGE AVAILABLE',\n",
       " u'Stainless Steel appliances',\n",
       " u'share ok',\n",
       " u\"Chef's kitchen\",\n",
       " u'counter-top space',\n",
       " u\"** MIDTOWN MIRACLE * SPRAWLING 1BR HOME * COOK'S KITCHEN * WINDOWS ALL AROUND * ROOMY CLOSETS **\",\n",
       " u'Twenty-four hour concierge and doorman',\n",
       " u'co-op',\n",
       " u'State-of-the-art swimming pool',\n",
       " u'** SUNDRENCHED & SPACIOUS * MASSIVE 3BR HOME * ALL MODERN & NEW * STEPS TO L TRAIN **',\n",
       " u'Laundry',\n",
       " u'Combo Washer Dryer',\n",
       " u'Terrace',\n",
       " u'Laundry in Building',\n",
       " u'pet friendly',\n",
       " u'boating hardwood floors',\n",
       " u'Outdoor roof deck overlooking New York Harbor and Battery Park',\n",
       " u'No Pets',\n",
       " u'French Door',\n",
       " u'in unit washer and dryer',\n",
       " u'78th & LEXINGTON Ave',\n",
       " u\"** UPTOWN'S FINEST! * MASSIVE 1BR HOME * ORNATE PREWAR DETAILS * GOURMET CHEF'S KITCHEN * PETS OK **\",\n",
       " u'and breathtaking views of New York City from our rooftop terrace',\n",
       " u'Sundeck',\n",
       " u'Near PRATT',\n",
       " u'$250 application fee with background and credit check. Board interview and approval.',\n",
       " u'Double Hung Wooden Shutters',\n",
       " u'Heat/Hot Water/Gas Included',\n",
       " u'** DIAMOND UWS DEAL! * MASSIVE STUDIO * EXPOSED BRICK * DISHWASHER * PETS OK * STEPS TO THE PARK! **',\n",
       " u'Resident Events',\n",
       " u'designer finishes',\n",
       " u'Roof-deck',\n",
       " u'deco brick wall',\n",
       " u'Hardwood floor',\n",
       " u'shuttle service',\n",
       " u'4th off Charles',\n",
       " u'PublicOutdoor',\n",
       " u'Newly Renovated w/ Oak wood floors   Mid century modern style interior   Large Closets in Every Bedroom EXTRA storage space in hall. Large Living room',\n",
       " u'b Billiards Table',\n",
       " u'Recessed Lighting.',\n",
       " u'65th/2nd Ave',\n",
       " u'** SUPER SWEET STUDIO * NO FEE * DISHWASHER * ROOMY CLOSETS * ELEV BLDG * PETS OK **',\n",
       " u'Big Rooms',\n",
       " u'2 Full Bathrooms',\n",
       " u'Deck',\n",
       " u'Stunning Renovations',\n",
       " u'Laundry in Unit',\n",
       " u'furnished rental',\n",
       " u'Queen Size Bedrooms',\n",
       " u'Rent Stabalized',\n",
       " u'spacious rooms',\n",
       " u'Third Floor walk up',\n",
       " u'All New',\n",
       " u'Marble Bathrooms',\n",
       " u'BIG 2 BED DEAL..Grab it or Grieve it!!!',\n",
       " u'pets',\n",
       " u'Private Patio!',\n",
       " u'** E60s EXCELLENCE * SPRAWLING 1BR HOME * GOURMET KITCHEN * WINDOWS ALL AROUND * PETS OK **',\n",
       " u'Walls of Windows',\n",
       " u'Washer/ Dryer in Unit',\n",
       " u'triplex',\n",
       " u'Ceiling Fans',\n",
       " u'Dogs under 20 Lbs.                Parking ( additional Fee)',\n",
       " u'No Fee!!!',\n",
       " u'Great View',\n",
       " u'Two Level Fitness Center',\n",
       " u'package room',\n",
       " u'500 Sq Ft',\n",
       " u'WALK IN CLOSET',\n",
       " u'Oversized windows',\n",
       " u'All pets ok',\n",
       " u'laundry in bldg.',\n",
       " u'EAT IN KITCHEN',\n",
       " u'5 BED',\n",
       " u'Swimming Pool',\n",
       " u'Right on Lexington Ave - Close to subway',\n",
       " u'Large open kitchen',\n",
       " u'free gym',\n",
       " u'however there\\'s a standing \"no walls\\' building policy!',\n",
       " u'2 Months Free',\n",
       " u'attached parking',\n",
       " u'** RARE FIND ~ UNIQUE CARRIAGE HOUSE * MASSIVE TRUE 2BR * PRIVATE GARDEN * WASHER/DRYER * 2 BLKS TO L TRAIN **',\n",
       " u'Fireplace',\n",
       " u'Shuttle to 7 train',\n",
       " u'$1500. Move-in Visa Giftcard will be handed to new tenants upon rental lease signing',\n",
       " u'Lounge W/ Free Wifi',\n",
       " u'Free Wifi',\n",
       " u'loft',\n",
       " u'<null>',\n",
       " u'Valet Service',\n",
       " u'2 Full Baths',\n",
       " u'NMW',\n",
       " u'Hot Water Inc. HUGE Walk-In Closet or Extra Room!',\n",
       " u'Full size gym',\n",
       " u'Guest Suite For Residents Only',\n",
       " u'central ac',\n",
       " u'Walk-in-closet',\n",
       " u'Spacious',\n",
       " u'doorman',\n",
       " u'CONDO FINISHES',\n",
       " u'Game room',\n",
       " u'junior 1 bedroom layout',\n",
       " u'Pets on approval',\n",
       " u'1 MONTH FREE',\n",
       " u'small dressing-area in front of bathroom',\n",
       " u'Underground Parking',\n",
       " u'Free Storage',\n",
       " u'East and West Resident Lounges Reading Room Outdoor Lounges with River Views Party Room Chefs Kitchen Movie Screening Room Tot Spot Playroom Ping Pong',\n",
       " u'Granite Kitchen',\n",
       " u'Private Backyard',\n",
       " u'** HOLY NO FEE! * OVERSIZED 2BR HOME * PRIVATE TERRACE & SCENIC ROOF DECK * SS KITCHEN * DISHWASHER * ELEV/LNDRY BLDG * 3 BLKS TO L TRAIN **',\n",
       " u'Granite countertops',\n",
       " u'No Fee or One Month Free',\n",
       " u'Roof',\n",
       " u'Rent Stabilize - Elevator Building',\n",
       " u'Closed circuit television security system',\n",
       " u'** SPACIOUS STUDIO SUPREME * AMAZING CORNER LAYOUT * TONS OF SUNLIGHT * PETS OK **',\n",
       " u'Soaking Neptune bathtub',\n",
       " u'rooftop access',\n",
       " u'DISHWASHER',\n",
       " u'own entrance',\n",
       " u'huge balcony',\n",
       " u'Mint',\n",
       " u'Dry Cleaning Service',\n",
       " u'Private roof-deck',\n",
       " u'Fireplace Storage',\n",
       " u'Comprehensive valet services including maid service',\n",
       " u'Stainless Kitchen',\n",
       " u'** NO FEE BKLN LUXURY! * EXPANSIVE 1BR w/HOME OFFICE * EAT-IN KITCHEN * FULL RENOVATED * 1 BLK TO THE PARK * STEPS TO L TRAIN **',\n",
       " u'Sparkling  Marble Bathroom',\n",
       " u'Washer/Dryer In Unit',\n",
       " u'original molding details',\n",
       " u'** GREENPOINT GIANT * HUGE TRUE 2BR MEGA-SHARE * SPARKLING CLEAN & BRITE * STEPS TO THE PARK & BEDFORD L STOP **',\n",
       " u'Pre-War',\n",
       " u'2 beautifully furnished outside sundecks',\n",
       " u'Renovated Bathroom',\n",
       " u'two full bathrooms',\n",
       " u'ABSOLUTE VALUE FOR SIZE & LOCATION',\n",
       " u'RENOVATED 1 Bed',\n",
       " u'LIVE IN SUPER',\n",
       " u'Housekeeping',\n",
       " u'Telephonic intercom system/multiple phone lines per residence',\n",
       " u'One month free',\n",
       " u'Walk-In Closet',\n",
       " u'Live/Work',\n",
       " u'A Full service Luxury highrise',\n",
       " u'Laundry Room',\n",
       " u'Windowed Kitchen',\n",
       " u'onsite super',\n",
       " u'** OVERSIZED 3BR SUPER SHARE * EQUAL SIZED BRS! * WALL OF WINDOWS * WASHER/DRYER * STEPS TO BEDFORD L STOP **',\n",
       " u'brand new stainless steel appliances',\n",
       " u'dry cleaning service',\n",
       " u'Loft',\n",
       " u'Fireplaces',\n",
       " u'Free brealfast',\n",
       " u'Large Living room & Bedrooms',\n",
       " u'** OVERSIZED 1BR HOME * GUT RENOVATED * PERFECT NATURAL LIGHT * HEART OF CHELSEA * PETS OK **',\n",
       " u'Garbage Disposal',\n",
       " u'skylight',\n",
       " u'mid-rise',\n",
       " u'Private Patio',\n",
       " u'Post War',\n",
       " u'NEW Marble Bathroom',\n",
       " u'Garage',\n",
       " u'Close to Subway - Renovated!',\n",
       " u'Residents Lounge',\n",
       " u'FIOS High Speed Internet',\n",
       " u'walking distances to restaurants',\n",
       " u'One month Fee',\n",
       " u'Parking Available',\n",
       " u'competitively priced',\n",
       " u'Resident Super in the building',\n",
       " u'Granite Counter tops.',\n",
       " u'High Ceiling',\n",
       " u'Roofdeck',\n",
       " u'All Utilities included',\n",
       " u'abundant closets',\n",
       " u'Concierge Service',\n",
       " u'Jr.1 Bed',\n",
       " u'Children playroom',\n",
       " u'Pre War',\n",
       " u'** SPRAWLING SUNDRENCHED STUDIO * MR CLEAN APPROVED * ROOMY CLOSETS * PETS OK * W50s ~ STEPS TO THE PARK! **',\n",
       " u'Newly Renovated',\n",
       " u'Skylight Atrium',\n",
       " u'Fully  equipped',\n",
       " u'** RIVERSIDE NO FEE SPECIAL! * SPRAWLING 1BR HOME * FIREPLACE * BAY WINDOWS * EXPOSED BRICK * DISHWASHER * LNDRY BLDG **',\n",
       " u\"** ALL BRAND NEW NO FEE! * EXPANSIVE 2BR McMANSION * PRIVATE TERRACE * COOK'S SS KITCHEN * ELEV/LNDRY BLDG * 3 BLKS TO L TRAIN **\",\n",
       " u'NO FEE',\n",
       " u'Virtual DM',\n",
       " u'NO BROKER FEE! NO FEE',\n",
       " u'Granite Counter Tops',\n",
       " u'Wardrobe Style Closets',\n",
       " u'Steps from Tompkins Sq Park',\n",
       " u'Children\\u2019s playroom',\n",
       " u'79th/2nd',\n",
       " u'Vacation home',\n",
       " u'large living room',\n",
       " u'Southern exposure',\n",
       " u'Parking',\n",
       " u'Alcove Studio',\n",
       " u'6 bedrooms',\n",
       " u'Common parking/Garage',\n",
       " u'Onsite super and porter',\n",
       " u'Elevator & Laundry',\n",
       " u'Close to hospitals',\n",
       " u'Package service',\n",
       " u'1/2 Month Fee',\n",
       " u'Storage Closet',\n",
       " u'Club sun deck has spectacular city and river views',\n",
       " u'Game Room',\n",
       " u'Wheelchair Access',\n",
       " u'built in storage',\n",
       " u'laundry in basement',\n",
       " u'laundry room',\n",
       " u'Nearby M & R trains',\n",
       " u'24/7 DOORMAN',\n",
       " u'Walk-In Closet Views:',\n",
       " u'24HR Doorman',\n",
       " u\"** MIDTOWN EAST ELEGANCE! * MASSIVE 1BR HOME * WALLS OF WINDOWS * GOURMET KITCHEN * BRAND SPANKIN' NEW! **\",\n",
       " u'State-of-the-Art Cardio and Fitness Club',\n",
       " u'4th floor Walk Up',\n",
       " u'Business center',\n",
       " u'Concierge Services',\n",
       " u'Garage Parking!',\n",
       " u'Granite Counters',\n",
       " u'Private Roof-Deck',\n",
       " u'Brand New',\n",
       " u'MIDRISE',\n",
       " u'microwave',\n",
       " u'Julian Balcony',\n",
       " u'Dog OKAY',\n",
       " u'On-Site Attended Garage',\n",
       " u'Living/dining room',\n",
       " u'Open Granite Kitchen',\n",
       " u'** MIDTOWN MARVEL! * MASSIVE 1BR HOME * GOURMET KITCHEN * UNIQUE PREWAR DETAILS * ROOMY CLOSETS * ALL NEW **',\n",
       " u'Private Dining Room',\n",
       " u'Screening room',\n",
       " u'game room',\n",
       " u'** OVERSIZED 3BR HOME * SPARKLING CLEAN * TONS OF NATURAL LIGHT * 2 BLKS TO THE WATERFRONT & BEDFORD L STOP **',\n",
       " u'Updated appliances',\n",
       " u'Tenant pays for only electric!',\n",
       " u'near NQRMG Trains',\n",
       " u'Live-In Super',\n",
       " u'** MIDTOWN MANSION * HUGE 2BR HOME * EAT-IN KITCHEN * SS APPL * FRENCH DOORS * ROOMY CLOSETS **',\n",
       " u'business center',\n",
       " u'** CENTRAL PARK STEAL! * MASSIVE STUDIO SUPREME * GUT RENOVATED * WALLS OF WINDOWS * ELEV/LNDRY BLDG **',\n",
       " u'Home Office',\n",
       " u'indoor swimming pool',\n",
       " u'Outdoor Areas',\n",
       " u'24/7 Full-Time Doorman Concierge',\n",
       " u'Outdoor space',\n",
       " u'tenants lounge with free Wi-Fi',\n",
       " u'no board approval',\n",
       " u'Alcove',\n",
       " u'water view',\n",
       " u'ALL UTILITIES INCLUDED',\n",
       " u'Recently renovated',\n",
       " u'24-hour parking garage with an electric vehicle charging station.',\n",
       " u'new kitchen!',\n",
       " u'Oversized window',\n",
       " u'Dining Area',\n",
       " u'Well mainatained Swimming pool',\n",
       " u'Pets Allowed',\n",
       " u'Underground parking',\n",
       " u'private storage',\n",
       " u'Basement Storage',\n",
       " u'All common areas feature Wi-Fi accessibility',\n",
       " u'concierge services',\n",
       " u'MW',\n",
       " u'Valet services including dry cleaning',\n",
       " u'Great Area',\n",
       " u'Prewar',\n",
       " u'1st',\n",
       " u'700 SF',\n",
       " u'Leed Certificate Gold',\n",
       " u'Hardwood Flooring',\n",
       " u'Call Timur for instant Access 646 847 8588',\n",
       " u'** GIGANTIC GREENPOINT 2BR HOME * ROOM TO ENTERTAIN * EXTRA STORAGE * DINING ROOM * ALL BRAND NEW! **',\n",
       " u'Skyline view',\n",
       " u'Reduced Fee',\n",
       " u'Exposed brick',\n",
       " u'Dishwasher/Microwave',\n",
       " u'Exposed Bricks',\n",
       " u'Low Fee Listing',\n",
       " u'Tall Ceilings',\n",
       " u'Granite Bath',\n",
       " u'Pet grooming room',\n",
       " u'Close to Subway',\n",
       " u'No broker fee!',\n",
       " u'** PRISTINE MODERN TOWNHOUSE! * MASSIVE 2BR HOME * CHEF INSPIRED KITCHEN * HUGE WINDOWS GALORE * CATS OK **',\n",
       " u'Large Windows w/ Natural Light',\n",
       " u'Rent stabilize',\n",
       " u'Yard',\n",
       " u'golf simulator',\n",
       " u'state-of-the-art fitness center',\n",
       " u'huge 1 bedroom',\n",
       " u'lounge',\n",
       " u'Walk in closet',\n",
       " u'Dish Washer',\n",
       " u'Renovated Apt',\n",
       " u'state of the art fitness center',\n",
       " u'natural sunlight',\n",
       " u'deco fireplace',\n",
       " u'children\\u2019s playroom',\n",
       " u'Arguably the most well-Maintained Luxury Highrise in the City',\n",
       " u'** ONE OF A KIND NO FEE! * MASSIVE 3BR MANSION * EAT-IN KITCHEN * TONS OF SUNLIGHT * 2 BLKS TO TRAIN **',\n",
       " u'Poker Table',\n",
       " u'Foyer',\n",
       " u'new construction',\n",
       " u'View',\n",
       " u'Exclusive',\n",
       " u'Washer/Dryer in-Unit',\n",
       " u'Laundry room on every floor. Health club',\n",
       " u'** RARE FIND! * HUGE TRUE 2BR * COURTYARD * FULLY RENOVATED * EAT-IN KITCHEN * 2 BLKS TO BEDFORD L **',\n",
       " u'Brand New Appliances',\n",
       " u'Elevator building',\n",
       " u'Gut Renovated.',\n",
       " u'4 roof-decks with river views',\n",
       " u'furnished',\n",
       " u'Marble Bathroom',\n",
       " u'terrace',\n",
       " u'LIMITED TIME - NO FEE',\n",
       " u'rooftop',\n",
       " u'Convertible 2',\n",
       " u'Views',\n",
       " u'duplex',\n",
       " u'Queen size sleeping Alcove',\n",
       " u'WASHER/DRYER INSIDE THE UNIT',\n",
       " u'spacious',\n",
       " u'** REAL NO FEE BABY! * EXPANSIVE 3BR MASTERPIECE * SPACIOUS & SUNFILLED * SPARKLING CLEAN * EAT-IN KITCHEN * 2 BLKS TO TRAIN **',\n",
       " u'one flight walk up',\n",
       " u'A/C',\n",
       " u'Garage attached',\n",
       " u'COME LIVE THE GOOD LIFE FOR  LESS $$$$',\n",
       " u'High Speed Internet',\n",
       " u'Super On-Site',\n",
       " u'Decorative Fireplace',\n",
       " u'windowed kitchen',\n",
       " u'billiards room',\n",
       " u'Lounge with WiFi',\n",
       " u'1/2 bath',\n",
       " u'2 blocks away from Union Square',\n",
       " u'modern kitchen',\n",
       " u'attached parking garage',\n",
       " u'Everything Brand New!',\n",
       " u'3-12 MONTH LEASES ALLOWED',\n",
       " u'** LEX AVE LUXURY! * SPRAWLING SUNFILLED 1BR HOME * ALL UTILITIES INCL! * DOORMAN * ELEV/LNDRY BLDG * CATS OK **',\n",
       " u'Green building',\n",
       " u'** SPRAWLING 3BR SUPER SHARE * CLEAN & BRITE * NEAR WATERFRONT! * 2 BLKS TO BEDFORD L STOP **',\n",
       " u'Health Club',\n",
       " u'on-site parking garage',\n",
       " u'Available  07/01/16',\n",
       " u\"Children's playroom\",\n",
       " u'BIG OPEN SPACES',\n",
       " u'1.5 Baths',\n",
       " u'deco brick walls',\n",
       " u'Marble bath',\n",
       " u'** MASSIVE 3BR SUPER SHARE * WASHER/DRYER * ORNATE PREWAR DETAILS * STEPS TO BEDFORD L STOP **',\n",
       " u'Full Kitchen',\n",
       " u'Large patio',\n",
       " u'Custom painted murals',\n",
       " u'Incredible Views!',\n",
       " u'24-hour concierge',\n",
       " u'Crown Moldings',\n",
       " u'FIRE PLACE',\n",
       " u'2',\n",
       " u'A wide array of complimentary fitness classes offered weekly',\n",
       " u'FURNISHED price. Central Air Conditioning. High Ceilings. Stainless Steel Appliances. Fully Equipped Stainless Steel Appliances Kitchen.',\n",
       " u'Green Building',\n",
       " u'Corner Unit',\n",
       " u'$500 Security Deposit',\n",
       " u'Outdoor play area',\n",
       " u'Video intercom',\n",
       " u'Tenant Storage',\n",
       " u'heat hot water included',\n",
       " u'Convinient to all major transportation',\n",
       " u'Roof Deck with real grass',\n",
       " u'Laundry on every floor',\n",
       " u'Washer/Dryer in building',\n",
       " u'** STEPS TO CENTRAL PARK!! * EXPANSIVE STUDIO STEAL! * A/C * EXTRA STORAGE * STUNNING RENOVATIONS * ELEV/LNDRY BLDG **',\n",
       " u'Common courtyard',\n",
       " u'Walls OK',\n",
       " u'2 bathrooms',\n",
       " u'Bluetooth System',\n",
       " u'huge room',\n",
       " u'Guarantors okay',\n",
       " u'Housekeeping service',\n",
       " u'DW',\n",
       " u'ALL NEW',\n",
       " u'heat and water included in rent',\n",
       " u'A true top luxury Hi-Rise',\n",
       " u'Park view',\n",
       " u'WiFi',\n",
       " u'Equal King-Size Bedrooms',\n",
       " u'Private Entrances',\n",
       " u'** HOLY DEAL BATMAN!! * OVERSIZED 3BR MANSION * 2 FULL BATHS * HUGE SCENIC TERRACE * DOORMAN * ELEV/LNDRY BLDG * ROOF DECK * REAL PIX **',\n",
       " u'RIVER VIEWS',\n",
       " u'Loft Area',\n",
       " u'furnished wrap around terrace',\n",
       " u'Available 06/04/16     Firepalce',\n",
       " u'** COURT SQUARE GEM! * SPRAWLING SUNDRENCHED 2BR HOME * CUSTOM FINISHES * DISHWASHER * FIREPLACES * EAT-IN KITCHEN * BAY WINDOWS **',\n",
       " u'Floor-to-ceiling windows',\n",
       " u'Previous tenant found easy on-street parking.',\n",
       " u'Gym/Fitness',\n",
       " u'fitness facility',\n",
       " u\"children's playroom\",\n",
       " u'HARDWOOD FLOORS',\n",
       " u'Kids Playroom',\n",
       " u'Elevator & LAUNDRY',\n",
       " u'Expansive Sundeck',\n",
       " u'Cold Storage',\n",
       " u'Electricity Included',\n",
       " u'75th & 1st',\n",
       " u'Gym Discount',\n",
       " u\"** UPTOWN'S BEST DEAL! * STEPS TO THE PARK! * MASSIVE 1BR HOME * MR CLEAN APPROVED * ROOMY CLOSETS **\",\n",
       " u'Brand New SS Kitchen',\n",
       " u'Private Deck',\n",
       " u'Top Floor',\n",
       " u'Hi Rise',\n",
       " u'Continental Breakfast Served 5 Days A Week',\n",
       " u'Billiards table and wet bar',\n",
       " u'Two Closets',\n",
       " u'RENOVATED',\n",
       " u'Large',\n",
       " u'Roof/Sundeck',\n",
       " u'free cable tv and wireless internet',\n",
       " u'Private lounge w/ wet bar & billiards table',\n",
       " u'EAT-IN-KITCHEN',\n",
       " u'Gym In Building',\n",
       " u'Private Outdoor Space',\n",
       " u'Private Terrace',\n",
       " u'Built in microwave',\n",
       " u'gut renovated',\n",
       " u'** MIDTOWN MANSION * SPRAWLING SUNFILLED STUDIO * UTILITIES INCLUDED * DOORMAN * ELEV/LNDRY BLDG * PETS OK **',\n",
       " u'Storage',\n",
       " u'Outdoor Space',\n",
       " u'parking',\n",
       " u'CitiBikes Nearby',\n",
       " u'and RCN',\n",
       " u'Live-In Superintendent',\n",
       " u'Large Private Deck',\n",
       " u'Fire Place',\n",
       " u'50 ft. exercise pool and whirlpool with lifeguard on duty',\n",
       " u'Childrens Playroom',\n",
       " u'3',\n",
       " u'Washer Dryer in Unit',\n",
       " u'LEED certified',\n",
       " u'Private Shuttle',\n",
       " u'renovated kitchen',\n",
       " u'Cold Storage In Lobby',\n",
       " u'valet and dry cleaning services',\n",
       " u'Common garden',\n",
       " u'Roof Deck',\n",
       " u'Pre-War small dogs',\n",
       " u'Balconies in both bedrooms',\n",
       " u'elevator & Laundry',\n",
       " u'Community recreation facilities',\n",
       " u'laundry & housekeeping',\n",
       " u'Gatehouse security',\n",
       " u'** CHELSEA BABY! * MASSIVE 2BR SUPER SHARE * ALL MODERN & NEW * ELEV /LNDRY BLDG **',\n",
       " u'Spacious and Bright !!!',\n",
       " u'quiet',\n",
       " u'Equal Size Rooms',\n",
       " u'Decorative Wooden Fireplace',\n",
       " u'Pre-War Details',\n",
       " u'On-site lifestyle concierge by Luxury Attach\\xe9',\n",
       " u'Housekeeeping',\n",
       " u'Great Location',\n",
       " u'** SASSY SOHO STEAL! * NO FEE! * SPRAWLING STUDIO HOME * GOURMET KITCHEN * HUGE CLOSETS * ELEV BLDG **',\n",
       " u'Security ******Available June 1st***',\n",
       " u'** HOLY NO FEE DEAL! * OVERSIZED 2BR SUPER SHARE * PRIVATE TERRACE * SS KITCHEN * DISHWASHER * ELEV/LNDRY BLDG * 3 BLKS TO L TRAIN **',\n",
       " u'Storage in basement',\n",
       " u'big closets',\n",
       " u'HUGE Living Room',\n",
       " u'Gut Renovated',\n",
       " u'Natural Sunlight',\n",
       " u'Private backyard',\n",
       " u'** HEART OF THE VILLAGE! * MASSIVE 3BR SUPER SHARE * MR CLEAN APPROVED * ORNATE PREWAR DETAILS * GOURMET KITCHEN * TONS OF SUNLIGHT **',\n",
       " u'Baruch',\n",
       " u'granite kitchen',\n",
       " u'Bike room',\n",
       " u'Washer / Dryer',\n",
       " u'on site dog park and pet spa',\n",
       " u'Restaurant',\n",
       " u'Elevator',\n",
       " u'Storage Available',\n",
       " u'Sublet',\n",
       " u'** ENTIRE FLOOR! * ENORMOUS 4BR MEGA-SHARE * MAGIC ERASER CLEAN * UNIQUE RENOVATIONS * PETS OK **',\n",
       " u'The friendliest doormen in all of Manhattan',\n",
       " u'laundry hookup',\n",
       " u'Jacuzzi',\n",
       " u'huge living room',\n",
       " u'Stainless Steet Appliances',\n",
       " u'Arched Doorways',\n",
       " u'Half Bath',\n",
       " u'attended garage and service entrance',\n",
       " u'two tennis courts',\n",
       " u'natural light',\n",
       " u'Patio',\n",
       " u'A One-of-a-Kind Full Service Luxury Highrise',\n",
       " u'LAUNDRY',\n",
       " u'** ELEGANT E50s!! * SPRAWLING SUNDRENCHED 2BR HOME * FRENCH DRS * BREAKFAST BAR * DISHWASHER * EAT-IN KITCHEN * WALK-IN CLOSETS! **',\n",
       " u'Union Square',\n",
       " u'High Ceilings',\n",
       " u'On-site Garage',\n",
       " u'** UNIQUE FIND! * SPRAWLING 2BR SUPER SHARE * WALLS OF WINDOWS * STUNNING RENOVATIONS * 2 BLKS TO BEDFORD L STOP **',\n",
       " u'ROOFTOP',\n",
       " u'Building Link Notification & Key Track for tenants convenience',\n",
       " u'Yoga and Spin Studios',\n",
       " u'FLEXIBLE VIEWING TIMES',\n",
       " u'Large rooms',\n",
       " u'** OVERSIZED 2BR SUPER SHARE * FRENCH DOORS * SS EAT-IN KITCHEN * MR CLEAN APPROVED * HEART OF MIDTOWN! **',\n",
       " u'Grand Central',\n",
       " u'Rent stabilized',\n",
       " u'4',\n",
       " u'Double Panned Sound-Proof windows /Renovated open kitchen marble and stainless steel countertops',\n",
       " u'24 hr doorman',\n",
       " u'Party Room',\n",
       " u'Deco Fireplace',\n",
       " u'Electronic Rent Payment',\n",
       " u'only $250 Deposit with Approved Credit',\n",
       " u'Childrens Room',\n",
       " u'Common terrace',\n",
       " u'NO FEE...LUXURY DOORMAN BUILDING^^^RIVER VIEWS',\n",
       " u'Citi Bike Station',\n",
       " u'** THE PERFECT SHARE! * SPRAWLING SUNFILLED 4BR MANSION * CLEAN & BRITE * STEPS TO THE PARK & BEDFORD L STOP **',\n",
       " u'no fee',\n",
       " u'Central Air Conditioning',\n",
       " u'City view',\n",
       " u'loft storage',\n",
       " u'king size bedrooms',\n",
       " u'3br',\n",
       " u'Outdoor Entertainment Space',\n",
       " u'Pet Friendly',\n",
       " u'walk-in closet',\n",
       " u'oak cabinets',\n",
       " u'24/7 Doorman Concierge',\n",
       " u'new flooring',\n",
       " u'A Full Service luxury Highrise',\n",
       " u'NO PETS',\n",
       " u'Dining Room',\n",
       " u'New',\n",
       " u'\\u2022 On-site lifestyle concierge by Luxury Attach\\xe9 \\u202224/7 Doorman \\u2022 State of the art cardiovascular and weight training equipment \\u2022 24-hour valet parking garage \\u2022 Valet services including dry cleaning',\n",
       " u'King sized Bedroom',\n",
       " u'LOW FEE',\n",
       " u'oversized closet',\n",
       " u'Owner Occupied - 3 family townhouse - no realtor fees - this beautiful apt is offered below market rate',\n",
       " u'1.5 bathrooms',\n",
       " u'Movie theater',\n",
       " u'Stainless steel appliances',\n",
       " u'pets ok',\n",
       " u'Private Balcony',\n",
       " u'Wood burning fireplace',\n",
       " u'HUGE & GUT RENOVATED',\n",
       " u'Large apartment',\n",
       " u'24hr white-gloved doorman',\n",
       " u'Hardwood',\n",
       " u'Half floor through',\n",
       " u'Skylights',\n",
       " u'Live Work',\n",
       " u'Decorative fireplace',\n",
       " u'** EXQUISITE RIVERSIDE SPECIAL! * STUNNING STUDIO DUPLEX * FIREPLACE * GUT RENOVATED * STEPS TO THE PARK! **',\n",
       " u'** OVERSIZED & UNDERPRICED!! * SPRAWLING SUNFILLED STUDIO * GOURMET KITCHEN * GUT RENOVATED * W50s ~ NEAR CENTRAL PARK! **',\n",
       " u'Dining/living room',\n",
       " u'Skylight',\n",
       " u'real sand beach volleyball courts',\n",
       " u'eat in kitchen',\n",
       " u'Pet friendly',\n",
       " u'Cable/Satellite TV',\n",
       " u'** DOUBLE DUPLEX DEAL! * SPRAWLING 3BR HOME * 1.5 BATHS * PRIVATE DECK & BALCONY! * EAT-IN KITCHEN * WASHER//DRYER * ALL MODERN NEW! **',\n",
       " u'Lexington 95th',\n",
       " u'two month free rent',\n",
       " u'Local Gym Discount',\n",
       " u'laundry room as well as housekeeping & dry-cleaning services',\n",
       " u'** SUPER SEXY 2BR * SPACIOUS SUNSPANKED LAYOUT * ALL MODERN & NEW * 2 BLKS TO BEDFORD L STOP **',\n",
       " u'Twenty-four-hour concierge and doorman',\n",
       " u'Full Service Garage',\n",
       " u'specific dog breeds up to 40lbs',\n",
       " u'Large Living Area',\n",
       " u'30th St & Madison Avenue',\n",
       " u'Shared yard',\n",
       " u'balocny',\n",
       " u'24hr Doorman',\n",
       " u'Complimentary Continental Breakfast',\n",
       " u'A/C Units',\n",
       " u'Huge Private Backyard',\n",
       " u'S-Steel Appliances',\n",
       " u'Garage Fitness Facility Laundry Room Valet Lounge Billiards Room Rooftop Deck WiFi Access',\n",
       " u'No pets',\n",
       " u'Closets',\n",
       " u'** W70s WINNER! * OVERSIZED 3BR DUPLEX MANSION * 2 FULL BATHS * PRIVATE ROOF DECK * DISHWASHER * STEPS TO THE PARK **',\n",
       " u'surveillance cameras. and much more!',\n",
       " u'Unit has Balcony',\n",
       " u'Valet',\n",
       " u'One Month rent free concession on a 12 month lease',\n",
       " u'heat and hot water included',\n",
       " u'2 year lease',\n",
       " u'No Fee!',\n",
       " u'Lounge room',\n",
       " u'Roof Deck with Grills',\n",
       " u'storage',\n",
       " u'laundry & housekeeping \\u2022 Marc Club includes a cinema room',\n",
       " u'Recessed Lighting',\n",
       " u'Stone countertops',\n",
       " u'** OVERSIZED 1BR DUPLEX DREAM * MR CLEAN APPROVED * UNIQUE DETAILS * NEAR CENTRAL PARK * W50s BABY * PETS OK **',\n",
       " u'Huge Bedrooms',\n",
       " u'** CLASSY CLINTON HOME * MASSIVE 1BR * GOURMET KITCHEN * EXPOSED BRICK * ROOMY CLOSETS **',\n",
       " u'Gas and Electric Included in Rent',\n",
       " u'On-site laundry',\n",
       " u'Walk In Closet',\n",
       " u'Just Renovated',\n",
       " u'Private outdoor space',\n",
       " u'Brand New Renovation',\n",
       " u'Near Transportation',\n",
       " u'Sunny Southern & Western Exposure',\n",
       " u'Available  05/01/16      Swimming pool         Dishwasher',\n",
       " u'featuring a sophisticated Precor\\xae online profile system that tracks your personal fitness goals',\n",
       " u'MONTH FREE',\n",
       " u'Hardwood Floor',\n",
       " u'Large Living Room',\n",
       " u'A Full service Luxury Highrise',\n",
       " u'well-maintained',\n",
       " u'DUPLEX',\n",
       " u'24hr doormen',\n",
       " u'** HOLY NO FEE DEAL BATMAN! * OVERSIZED 2BR HOME * SPARKLING CLEAN & BRITE * HEART OF GREENPOINT * NEAR THE PARK & TRAINS **',\n",
       " u'Outstanding Shopping',\n",
       " u\"** SPRAWLING 2BR SUPER SHARE * MASSIVE WINDOWS GALORE * COOK'S KITCHEN * 2 BLKS TO BEDFORD L STOP **\",\n",
       " u'!!!!LOW FEE!!!!',\n",
       " u'One month free rent',\n",
       " u'exposed brick',\n",
       " u\"residents' lounge\",\n",
       " u\"** EAST VILLAGE EXTRAVAGANZA * MASSIVE 2BR HOME * PERFECT SHARE * COOK'S KITCHEN * PERFECT NATURAL LIGHT **\",\n",
       " u'Natural Light',\n",
       " u'Marble Bath',\n",
       " u'36th St & 3rd Ave',\n",
       " u'Parking Garage',\n",
       " u'Utilities included',\n",
       " u'Concierge',\n",
       " u'** THE PERFECT SHARE * SPRAWLING 3BR HOME * HI END RENOVATIONS * MR CLEAN APPROVED * ROOMY CLOSETS * G-VILLAGE BABY! **',\n",
       " u'Parking spot with additional fee',\n",
       " u'Queen Sized Bedroom',\n",
       " u'Outdoor areas',\n",
       " u'Eat In Kitchen',\n",
       " u'Social Lounge',\n",
       " u'Individual Climate Control',\n",
       " u'Concierge and Live-In Super.',\n",
       " u'PRIVATE BALCONY',\n",
       " u'all kitchen appliances included',\n",
       " u'Oversized',\n",
       " u'Convertible-2',\n",
       " u'Private Storage',\n",
       " u'Electronic Rent Payment (Ach)',\n",
       " u'** SPRAWLING TRUE 2BR SUPER SHARE * EXPOSED BRICK * SCENIC ROOF DECK * PETS OK **',\n",
       " u'Bicycle and tenant st...orage available for rent',\n",
       " u\"Children's room\",\n",
       " u'Island Kitchen',\n",
       " u'Roof Access',\n",
       " u'Health club with pool on the top floor',\n",
       " u'On-site parking',\n",
       " u'** OVERSIZED & UNDERPRICED NO FEE * HUGE 2BR HOME * ALL MODERN & NEW * EAT-IN KITCHEN * 2 BLKS TO THE TRAIN **',\n",
       " u'Live In Super',\n",
       " u'Built-in Breakfast Bar',\n",
       " u'NO FEE!!',\n",
       " u'Full-time doorman',\n",
       " u'Live/work',\n",
       " u'Building Storage',\n",
       " u'Laundry room',\n",
       " u'High-speed internet access',\n",
       " u\"** RENT STABILIZED * OVERSIZED 1BR HOME * MR CLEAN APPROVED * SEPARATE COOK'S KITCHEN * HEART OF MIDTOWN **\",\n",
       " u'Near Subway',\n",
       " u'Steps to Prospect Park',\n",
       " u'No Fee',\n",
       " u'On-Site Super',\n",
       " u'HUGE Closets',\n",
       " u'Backyard',\n",
       " u'In unit washer and dryer',\n",
       " u'parks in area',\n",
       " u'King Sized Bedroom',\n",
       " u'Storage in Building Included!',\n",
       " u'Shared garden',\n",
       " u'personal trainer',\n",
       " u\"** OVERSIZED 2BR SUPER SHARE * CHEF'S KITCHEN * EXPOSED BRICK * LNDRY BLDG * HEART OF THE VILLAGE **\",\n",
       " u'24 hour doorman',\n",
       " u'ACT FAST WILL NOT LAST',\n",
       " u'Exercise equipment (if furnished)',\n",
       " u'2 Bedroon Convertible',\n",
       " u'Fitness center',\n",
       " u\"** RARE FIND! * HUGE TRUE 2BR SUPER SHARE * CHEF'S KITCHEN * COURTYARD! * 2 BLKS TO BEDFORD L STOP **\",\n",
       " u'Central Heat',\n",
       " u'Free WiFi in Club lounge',\n",
       " u'Queen & King Size Bedrooms',\n",
       " u'Microwave',\n",
       " u'crown molding',\n",
       " u'Kids playroom',\n",
       " u'High Ceil',\n",
       " u'low-rise',\n",
       " u'Package Receiving',\n",
       " u'Intercom',\n",
       " u'Central Air',\n",
       " u'Control & pay for your own heat with your own thermostat',\n",
       " u'Exposed Brick Wall',\n",
       " u'granite bathroom',\n",
       " u'Media Room',\n",
       " u'New construction',\n",
       " u'Satellite TV',\n",
       " u'** MULTI-LEVEL MANSION * HUGE 4BR DUPLEX * MR CLEAN APPROVED * OVERSIZED WINDOWS GALORE * 2 BLKS TO BEDFORD L STOP **',\n",
       " u'Spa center',\n",
       " u'Manhattan Views',\n",
       " u'backyard',\n",
       " u'VERY COMFORTABLE LAYOUT',\n",
       " u'Laundry On Floor',\n",
       " u'Rooftop Deck',\n",
       " u'PETS WELCOME',\n",
       " u'1.5 Marble Baths',\n",
       " u'French Doors',\n",
       " u'Dry cleaning service',\n",
       " u'patio',\n",
       " u'ROOFDECK',\n",
       " u\"** HOLY DEAL BATMAN! * SPRAWLING 3BR HOME * COOK'S KITCHEN * 2 BLKS TO WATERFRONT * BEDFORD L STOP **\",\n",
       " u'European air condition in each room',\n",
       " u'Available  04/15/16',\n",
       " u'build-in Microwave-oven',\n",
       " u'Actual Photos!',\n",
       " u'Lease Term (Flexible) 3 Months - 1 Year / Furnished or Unfurnished',\n",
       " u\"No Broker's Fees\",\n",
       " u'Fitness Center',\n",
       " u'22',\n",
       " u'** MASTERFUL BKLN MANSION! * SPRAWLING 3BR HOME * ORNATE PREWAR DETAILS * GOURMET KITCHEN * 1 BLK TO BEDFORD L **',\n",
       " u'Residents Garden',\n",
       " u'wash/dryer',\n",
       " u'convertible 2 bedroom',\n",
       " u'steam room',\n",
       " u'Garden Roof Deck',\n",
       " u'Low fee and great space too!',\n",
       " u'Duplex Lounge',\n",
       " u'Terraces / Balconies',\n",
       " u'postwar',\n",
       " u\"** REAL NO FEE LUXURY! * OVERSIZED 2BR HOME ~ FIT FOR QUEENS!! *  CHEF'S KITCHEN * WALLS OF WINDOWS * 1 BLK TO TRAIN **\",\n",
       " u\"** BKLYN'S FINEST! * MASSIVE TRUE 2BR * COURTYARD * FULLY RENOVATED * 2 BLKS TO BEDFORD L STOP **\",\n",
       " u'Executive conference room with large-screen HDTV',\n",
       " u'Video Access Control',\n",
       " u'** HUGE TRUE 2BR SUPER SHARE * EXPOSED BRICK * GOURMET KITCHEN * LNDRY BLDG * HEART OF THE VILLAGE **',\n",
       " u'Electricity + Hot Water + Gas + Heat Included',\n",
       " u'Free Gym',\n",
       " u'Modern Finishes',\n",
       " u'New Electric',\n",
       " u'Post-War',\n",
       " u'A One-of-a-Kind Full service Luxury Highrise',\n",
       " u'South Facing',\n",
       " u'Park Block',\n",
       " u'Highland Park',\n",
       " u'outdoor space',\n",
       " u'NYU',\n",
       " u'** OVERSIZED & UNDERPRICED! * SPRAWLING CONV 3BR MANSION * MASSIVE WINDOWS GALORE * ELEV BLDG * STEPS TO THE PARK! **',\n",
       " u'wine cooler.',\n",
       " u'High floor',\n",
       " u'dishwasher',\n",
       " u\"children's room\",\n",
       " u'pets upon approval',\n",
       " u'Granite Countertops',\n",
       " u'On-Site Parking',\n",
       " u'DW  DUPLEX   PENTHOUSE',\n",
       " u'Ample Closet Space',\n",
       " u'Huge',\n",
       " u'** MODERN VILLAGE MARVEL * SPRAWLING 2BR HOME * EXPOSED BRICK * LNDRY BLDG * NEAR THE PARK **',\n",
       " u'Laundry In Unit',\n",
       " u'Rooftop Terrace',\n",
       " u'1 Month Free',\n",
       " u'** THE PERFECT SHARE! * MASSIVE 2BR HOME * GUT RENOVATED * LNDRY BLDG * PETS OK * HEART OF THE VILLAGE **',\n",
       " u'Roof deck with stunning view',\n",
       " u'Window Bathroom',\n",
       " u'Working Fireplace',\n",
       " u'Sunny',\n",
       " u'Indoor 50ft lap pool; dishwasher; free bike storage',\n",
       " u\"** GREENPOINT GIANT * SPRAWLING 2BR HOME * CHEF'S KITCHEN * PERFECT NATURAL LIGHT * STEPS TO THE PARK & TRAIN! **\",\n",
       " u'Shares OK',\n",
       " u'Extra Closet Space',\n",
       " u'Common Terrace',\n",
       " u'On site super',\n",
       " u\"** BRAND SPANKIN' NEW * OVERSIZED 3BR HOME * WASHER/DRYER * SS KITCHEN w/ISLAND * HEART OF DESIRABLE SOHO **\",\n",
       " u'SS appliances',\n",
       " u'No fee',\n",
       " u'On-site Super',\n",
       " u'Sunny Southern Exposure',\n",
       " u'Common Storage',\n",
       " u'valet parking',\n",
       " u'in-unit washer-dryer',\n",
       " u'Laundry In Building',\n",
       " u'Lounge spaces',\n",
       " u'Large Windows w/ lots of Natural Light',\n",
       " u'BALCONY',\n",
       " u'On-site ATM Machine',\n",
       " u'Move-in coordination',\n",
       " u'XXLARGE STUDIO',\n",
       " u'Renovated Kitchen',\n",
       " u'2 Queen Bedrooms',\n",
       " u'ELEVATOR',\n",
       " u'Washer and dryer in unit',\n",
       " u'Landlord paying for all utilities! Tenant pays for cable / tv / internet.',\n",
       " u'** MIDTOWN MIRACLE * SPRAWLING 2BR SUPER SHARE * SS EAT-IN KITCHEN * FRENCH DOORS * ORNATE PREWAR DETAILS **',\n",
       " u'landmark building',\n",
       " u'laundry in bldg',\n",
       " u'Yoga Classes',\n",
       " u'Video Intercom',\n",
       " u'Wood-burning Fireplace',\n",
       " u'87th & 1st',\n",
       " u'Walk-in Closet',\n",
       " u'Atm',\n",
       " u'All utilities included',\n",
       " u'Great Light and Location. Fresh paint.',\n",
       " u'Gas Stove',\n",
       " u'Washer/Dryer in Unit',\n",
       " u'Window treatments',\n",
       " u'**Laundry room code is 3401',\n",
       " u'built-in wine cooler',\n",
       " u'closet space',\n",
       " u'Four Barbecue Grills',\n",
       " u'Wifi in Resident Lounge',\n",
       " u'W/D',\n",
       " u'Cats Allowed',\n",
       " u'Game Center',\n",
       " u'walk-up',\n",
       " u'Beamed Ceilings',\n",
       " u'Heat Included',\n",
       " u'-Greal location',\n",
       " u'Gym',\n",
       " u'LOUNGE',\n",
       " u'Attended Lobby',\n",
       " u'Pool',\n",
       " u'Ached Doorways',\n",
       " u'** SPRAWLING TRUE 3BR SUPER SHARE * FIT FOR KINGS! * UNIQUE RENOVATIONS * STEPS TO THE WATERFRONT * 1 BLK TO BEDFORD L STOP **',\n",
       " u'close to NYC',\n",
       " u'One Month Fee',\n",
       " u'Cable ready',\n",
       " u'Bluetooth',\n",
       " u'East Village',\n",
       " u'Virtual Doorman',\n",
       " u'Fully-equipped Club fitness center',\n",
       " u'** OVERSIZED & UNDERPRICED! * SPRAWLING SUNFILLED STUDIO * ROOMY CLOSETS * TONS OF SUNLIGHT * PETS OK **',\n",
       " u'BUILT-IN SPEAKER SYSTEM',\n",
       " u'Private roof access',\n",
       " u'SS Appliances w/ Dishwasher',\n",
       " u'1 BR or Conv 2',\n",
       " u'cinema room',\n",
       " u'** OVERSIZED & UNDERPRICED * CLASSY CORNER STUDIO * ALL MODERN & NEW * PERFECT SUNLIGHT * PETS OK **',\n",
       " ...]"
      ]
     },
     "execution_count": 46,
     "metadata": {},
     "output_type": "execute_result"
    },
    {
     "name": "stdout",
     "output_type": "stream",
     "text": [
      "time: 37.7 ms\n"
     ]
    }
   ],
   "source": [
    "print len(feature_list)\n",
    "feature_list"
   ]
  },
  {
   "cell_type": "code",
   "execution_count": 57,
   "metadata": {
    "collapsed": false,
    "scrolled": false
   },
   "outputs": [
    {
     "data": {
      "text/plain": [
       "[u'** REAL NO FEE! * MASSIVE TRUE 2BR SUPER SHARE * ALL MODERN & NEW * EAT-IN KITCHEN * 2 BLKS TO THE TRAIN **',\n",
       " u'** NO FEE BABY! * MASSIVE 2BR w/TERRACE * GOURMET SS KITCHEN * ELEV/LNDRY BLDG * SCENIC ROOF DECK * 3 BLKS TO TRAIN **',\n",
       " u'NO FEE!!!Roof Deck',\n",
       " u'** ELEGANT E50s & PARK BABY! * MASSIVE 4BR MANSION * NO BROKER FEE * DISHWASHER * WALLS OF WINDOWS * ELEV BLDG **',\n",
       " u\"** OVERSIZED & UNDERPRICED NO FEE * SPRAWLING 3BR SUPER SHARE * SEPARATE COOK'S KITCHEN * WALLS OF WINDOWS * 2 BLKS TO TRAIN **\",\n",
       " u'Sorry no pets',\n",
       " u'No Pets',\n",
       " u'** SUPER SWEET STUDIO * NO FEE * DISHWASHER * ROOMY CLOSETS * ELEV BLDG * PETS OK **',\n",
       " u'No Fee!!!',\n",
       " u'** HOLY NO FEE! * OVERSIZED 2BR HOME * PRIVATE TERRACE & SCENIC ROOF DECK * SS KITCHEN * DISHWASHER * ELEV/LNDRY BLDG * 3 BLKS TO L TRAIN **',\n",
       " u'No Fee or One Month Free',\n",
       " u'** NO FEE BKLN LUXURY! * EXPANSIVE 1BR w/HOME OFFICE * EAT-IN KITCHEN * FULL RENOVATED * 1 BLK TO THE PARK * STEPS TO L TRAIN **',\n",
       " u'** RIVERSIDE NO FEE SPECIAL! * SPRAWLING 1BR HOME * FIREPLACE * BAY WINDOWS * EXPOSED BRICK * DISHWASHER * LNDRY BLDG **',\n",
       " u\"** ALL BRAND NEW NO FEE! * EXPANSIVE 2BR McMANSION * PRIVATE TERRACE * COOK'S SS KITCHEN * ELEV/LNDRY BLDG * 3 BLKS TO L TRAIN **\",\n",
       " u'NO FEE',\n",
       " u'NO BROKER FEE! NO FEE',\n",
       " u'no board approval',\n",
       " u'No broker fee!',\n",
       " u'** ONE OF A KIND NO FEE! * MASSIVE 3BR MANSION * EAT-IN KITCHEN * TONS OF SUNLIGHT * 2 BLKS TO TRAIN **',\n",
       " u'LIMITED TIME - NO FEE',\n",
       " u'** REAL NO FEE BABY! * EXPANSIVE 3BR MASTERPIECE * SPACIOUS & SUNFILLED * SPARKLING CLEAN * EAT-IN KITCHEN * 2 BLKS TO TRAIN **',\n",
       " u'** SASSY SOHO STEAL! * NO FEE! * SPRAWLING STUDIO HOME * GOURMET KITCHEN * HUGE CLOSETS * ELEV BLDG **',\n",
       " u'** HOLY NO FEE DEAL! * OVERSIZED 2BR SUPER SHARE * PRIVATE TERRACE * SS KITCHEN * DISHWASHER * ELEV/LNDRY BLDG * 3 BLKS TO L TRAIN **',\n",
       " u'NO FEE...LUXURY DOORMAN BUILDING^^^RIVER VIEWS',\n",
       " u'no fee',\n",
       " u'NO PETS',\n",
       " u'Owner Occupied - 3 family townhouse - no realtor fees - this beautiful apt is offered below market rate',\n",
       " u'No pets',\n",
       " u'No Fee!',\n",
       " u'** HOLY NO FEE DEAL BATMAN! * OVERSIZED 2BR HOME * SPARKLING CLEAN & BRITE * HEART OF GREENPOINT * NEAR THE PARK & TRAINS **',\n",
       " u'** OVERSIZED & UNDERPRICED NO FEE * HUGE 2BR HOME * ALL MODERN & NEW * EAT-IN KITCHEN * 2 BLKS TO THE TRAIN **',\n",
       " u'NO FEE!!',\n",
       " u'No Fee',\n",
       " u\"No Broker's Fees\",\n",
       " u\"** REAL NO FEE LUXURY! * OVERSIZED 2BR HOME ~ FIT FOR QUEENS!! *  CHEF'S KITCHEN * WALLS OF WINDOWS * 1 BLK TO TRAIN **\",\n",
       " u'No fee',\n",
       " u'NO FEE!!!',\n",
       " u'** MIDTOWN NO FEE MANSION! * SPRAWLING 2BR SUPER SHARE * CHEF INSPIRED KITCHEN * ELEV/LNDRY BLDG **',\n",
       " u'NO alternate side parking rules in neighborhood',\n",
       " u'** NO FEE MULTI-LEVEL MANSION! * MASSIVE 3BR TRIPLEX * HUGE PRIVATE TERRACE * E50s & PARK AVE * ELEV/LNDRY BLDG **',\n",
       " u'** SPRAWLING SUNFILLED 3BR HOME * NO FEE * EAT-IN KITCHEN * WALLS OF WINDOWS * MODERN RENOVATIONS * 2 BLKS TO TRAIN **',\n",
       " u'** SPRAWLING SUNDRENCHED 2BR HOME * NO FEE! * WALLS OF WINDOWS * CHEF INSPIRED EAT-IN KITCHEN * 2 BLKS TO TRAIN **',\n",
       " u'** DIAMOND NO FEE DEAL! * SPRAWLING SUNFILLED 2BR w/PRIVATE TERRACE * SS KITCHEN * ELEV/LNDRY BLDG * 3 BLKS TO L TRAIN **',\n",
       " u'** DIAMOND NO FEE DEAL! * MASSIVE 1BR w/ HOME OFFICE * CONDO QUALITY FINISHES * EAT-IN KITCHEN * 1 BLK TO THE PARK **',\n",
       " u'** MURRAY HILL NO FEE MANSION * SPRAWLING 1BR HOME * ORNATE PREWAR DETAILS * GOURMET KITCHEN * WINDOWS ALL AROUND **',\n",
       " u'** EYE POPPING NO FEE! * MASSIVE 1BR HOME * EXPOSED BRICK * PRIVATE TERRACE * DISHWASHER * ELEV BLDG * ROOF DECK * PETS OK **',\n",
       " u'** NO BROKER FEE! * MASSIVE 2BR SUPER SHARE * EAT-IN KITCHEN * PRIVATE TERRACE * ELEV/LNDRY BLDG * 1 BLK TO L TRAIN **',\n",
       " u'NO FEE!',\n",
       " u\"** HOLY NO FEE DEAL BATMAN! * MASSIVE 1BR HOME * CHEF'S KITCHEN * MAGIC ERASER CLEAN * PETS OK * REAL PIX **\",\n",
       " u'NO FEE HARDWOOD FLOORS',\n",
       " u'** SUPER SWEET NO FEE! * XL 3BR MANSION * ALL BRAND NEW * EAT-IN KITCHEN * 2 BLKS TO TRAIN **',\n",
       " u'No Broker Fee',\n",
       " u'NO FEE Specialist! Harry Ego 718.413.8270 hego@citihabitats.com',\n",
       " u'No application fee!']"
      ]
     },
     "execution_count": 57,
     "metadata": {},
     "output_type": "execute_result"
    },
    {
     "name": "stdout",
     "output_type": "stream",
     "text": [
      "time: 8.96 ms\n"
     ]
    }
   ],
   "source": [
    "p_no = re.compile('(^| )no( |$)')\n",
    "feature_no = [f for f in feature_list if p_no.search(f.lower())]\n",
    "feature_no"
   ]
  },
  {
   "cell_type": "markdown",
   "metadata": {},
   "source": [
    "### to do:\n",
    "- create no fee feature\n",
    "- count of !\n",
    "- percentage capital letters\n",
    "- read the column as object and split on '(,| * | - )'\n",
    "- word count"
   ]
  },
  {
   "cell_type": "code",
   "execution_count": 78,
   "metadata": {
    "collapsed": false
   },
   "outputs": [
    {
     "data": {
      "text/plain": [
       "array([[<matplotlib.axes._subplots.AxesSubplot object at 0x1525a0bd0>,\n",
       "        <matplotlib.axes._subplots.AxesSubplot object at 0x1304c3450>],\n",
       "       [<matplotlib.axes._subplots.AxesSubplot object at 0x14f0e02d0>,\n",
       "        <matplotlib.axes._subplots.AxesSubplot object at 0x14d50fa90>]], dtype=object)"
      ]
     },
     "execution_count": 78,
     "metadata": {},
     "output_type": "execute_result"
    },
    {
     "data": {
      "image/png": "[encoded data removed]",
      "text/plain": [
       "<matplotlib.figure.Figure at 0x173049750>"
      ]
     },
     "metadata": {},
     "output_type": "display_data"
    },
    {
     "name": "stdout",
     "output_type": "stream",
     "text": [
      "time: 622 ms\n"
     ]
    }
   ],
   "source": [
    "train['description_length'].hist(by=train['interest_level'], bins=24)"
   ]
  },
  {
   "cell_type": "code",
   "execution_count": 80,
   "metadata": {
    "collapsed": false
   },
   "outputs": [
    {
     "data": {
      "text/plain": [
       "array([[<matplotlib.axes._subplots.AxesSubplot object at 0x146725050>,\n",
       "        <matplotlib.axes._subplots.AxesSubplot object at 0x1461ebf90>],\n",
       "       [<matplotlib.axes._subplots.AxesSubplot object at 0x13f60b410>,\n",
       "        <matplotlib.axes._subplots.AxesSubplot object at 0x1442d1650>]], dtype=object)"
      ]
     },
     "execution_count": 80,
     "metadata": {},
     "output_type": "execute_result"
    },
    {
     "data": {
      "image/png": "[encoded data removed]",
      "text/plain": [
       "<matplotlib.figure.Figure at 0x1456a9bd0>"
      ]
     },
     "metadata": {},
     "output_type": "display_data"
    },
    {
     "name": "stdout",
     "output_type": "stream",
     "text": [
      "time: 733 ms\n"
     ]
    }
   ],
   "source": [
    "train['feature_count'].hist(by=train['interest_level'], bins=40)"
   ]
  },
  {
   "cell_type": "code",
   "execution_count": 82,
   "metadata": {
    "collapsed": false
   },
   "outputs": [
    {
     "data": {
      "text/plain": [
       "array([[<matplotlib.axes._subplots.AxesSubplot object at 0x1730bcb50>,\n",
       "        <matplotlib.axes._subplots.AxesSubplot object at 0x173bffa50>],\n",
       "       [<matplotlib.axes._subplots.AxesSubplot object at 0x14fb88d50>,\n",
       "        <matplotlib.axes._subplots.AxesSubplot object at 0x14ff43a50>]], dtype=object)"
      ]
     },
     "execution_count": 82,
     "metadata": {},
     "output_type": "execute_result"
    },
    {
     "data": {
      "image/png": "[encoded data removed]",
      "text/plain": [
       "<matplotlib.figure.Figure at 0x13714b410>"
      ]
     },
     "metadata": {},
     "output_type": "display_data"
    },
    {
     "name": "stdout",
     "output_type": "stream",
     "text": [
      "time: 884 ms\n"
     ]
    }
   ],
   "source": [
    "train['photo_count'].hist(by=train['interest_level'], bins=60)"
   ]
  },
  {
   "cell_type": "code",
   "execution_count": 84,
   "metadata": {
    "collapsed": false
   },
   "outputs": [
    {
     "data": {
      "text/plain": [
       "array([[<matplotlib.axes._subplots.AxesSubplot object at 0x1508bd050>,\n",
       "        <matplotlib.axes._subplots.AxesSubplot object at 0x173c9f210>],\n",
       "       [<matplotlib.axes._subplots.AxesSubplot object at 0x14d470110>,\n",
       "        <matplotlib.axes._subplots.AxesSubplot object at 0x15759b0d0>]], dtype=object)"
      ]
     },
     "execution_count": 84,
     "metadata": {},
     "output_type": "execute_result"
    },
    {
     "data": {
      "image/png": "[encoded data removed]",
      "text/plain": [
       "<matplotlib.figure.Figure at 0x172774d50>"
      ]
     },
     "metadata": {},
     "output_type": "display_data"
    },
    {
     "name": "stdout",
     "output_type": "stream",
     "text": [
      "time: 850 ms\n"
     ]
    }
   ],
   "source": [
    "train['br_count'].hist(by=train['interest_level'], bins=50)"
   ]
  },
  {
   "cell_type": "markdown",
   "metadata": {},
   "source": [
    "## Datetime features"
   ]
  },
  {
   "cell_type": "code",
   "execution_count": 61,
   "metadata": {
    "collapsed": false
   },
   "outputs": [
    {
     "data": {
      "text/plain": [
       "10       2016-06-24 07:54:24\n",
       "10000    2016-06-12 12:19:27\n",
       "100004   2016-04-17 03:26:41\n",
       "100007   2016-04-18 02:22:02\n",
       "100013   2016-04-28 01:32:41\n",
       "Name: created, dtype: datetime64[ns]"
      ]
     },
     "execution_count": 61,
     "metadata": {},
     "output_type": "execute_result"
    },
    {
     "name": "stdout",
     "output_type": "stream",
     "text": [
      "time: 3.39 ms\n"
     ]
    }
   ],
   "source": [
    "train.created.head()"
   ]
  },
  {
   "cell_type": "code",
   "execution_count": 70,
   "metadata": {
    "collapsed": false
   },
   "outputs": [
    {
     "name": "stdout",
     "output_type": "stream",
     "text": [
      "time: 13.6 ms\n"
     ]
    }
   ],
   "source": [
    "train['dayofweek'] = train.created.dt.dayofweek\n",
    "train['day'] = train.created.dt.day\n",
    "train['hour'] = train.created.dt.hour"
   ]
  },
  {
   "cell_type": "code",
   "execution_count": 66,
   "metadata": {
    "collapsed": false,
    "scrolled": true
   },
   "outputs": [
    {
     "data": {
      "text/plain": [
       "0     55   \n",
       "1     5749 \n",
       "2     10596\n",
       "3     8318 \n",
       "4     5021 \n",
       "5     7954 \n",
       "6     4446 \n",
       "7     1047 \n",
       "8     336  \n",
       "9     135  \n",
       "10    284  \n",
       "11    444  \n",
       "12    693  \n",
       "13    616  \n",
       "14    782  \n",
       "15    753  \n",
       "16    370  \n",
       "17    443  \n",
       "18    450  \n",
       "19    266  \n",
       "20    191  \n",
       "21    178  \n",
       "22    139  \n",
       "23    86   \n",
       "Name: created, dtype: int64"
      ]
     },
     "execution_count": 66,
     "metadata": {},
     "output_type": "execute_result"
    },
    {
     "name": "stdout",
     "output_type": "stream",
     "text": [
      "time: 6.68 ms\n"
     ]
    }
   ],
   "source": [
    "train.created.dt.hour.value_counts().sort_index()"
   ]
  },
  {
   "cell_type": "code",
   "execution_count": 67,
   "metadata": {
    "collapsed": false,
    "scrolled": false
   },
   "outputs": [
    {
     "data": {
      "text/plain": [
       "4    16411\n",
       "5    15797\n",
       "6    17144\n",
       "Name: created, dtype: int64"
      ]
     },
     "execution_count": 67,
     "metadata": {},
     "output_type": "execute_result"
    },
    {
     "name": "stdout",
     "output_type": "stream",
     "text": [
      "time: 6.08 ms\n"
     ]
    }
   ],
   "source": [
    "train.created.dt.month.value_counts().sort_index()"
   ]
  },
  {
   "cell_type": "code",
   "execution_count": 68,
   "metadata": {
    "collapsed": false,
    "scrolled": false
   },
   "outputs": [
    {
     "data": {
      "text/plain": [
       "1     894 \n",
       "2     1783\n",
       "3     1803\n",
       "4     1493\n",
       "5     1808\n",
       "6     1851\n",
       "7     1764\n",
       "8     1655\n",
       "9     1514\n",
       "10    1603\n",
       "11    1702\n",
       "12    2348\n",
       "13    1736\n",
       "14    1951\n",
       "15    1701\n",
       "16    1891\n",
       "17    1615\n",
       "18    1483\n",
       "19    1412\n",
       "20    1762\n",
       "21    2475\n",
       "22    1669\n",
       "23    1049\n",
       "24    1862\n",
       "25    1458\n",
       "26    1470\n",
       "27    1588\n",
       "28    1644\n",
       "29    1641\n",
       "30    721 \n",
       "31    6   \n",
       "Name: created, dtype: int64"
      ]
     },
     "execution_count": 68,
     "metadata": {},
     "output_type": "execute_result"
    },
    {
     "name": "stdout",
     "output_type": "stream",
     "text": [
      "time: 7.57 ms\n"
     ]
    }
   ],
   "source": [
    "train.created.dt.day.value_counts().sort_index()"
   ]
  },
  {
   "cell_type": "code",
   "execution_count": 69,
   "metadata": {
    "collapsed": false,
    "scrolled": false
   },
   "outputs": [
    {
     "data": {
      "text/plain": [
       "0    4239\n",
       "1    8417\n",
       "2    9414\n",
       "3    8195\n",
       "4    7593\n",
       "5    6953\n",
       "6    4541\n",
       "Name: created, dtype: int64"
      ]
     },
     "execution_count": 69,
     "metadata": {},
     "output_type": "execute_result"
    },
    {
     "name": "stdout",
     "output_type": "stream",
     "text": [
      "time: 6.66 ms\n"
     ]
    }
   ],
   "source": [
    "train.created.dt.dayofweek.value_counts().sort_index()"
   ]
  },
  {
   "cell_type": "code",
   "execution_count": 71,
   "metadata": {
    "collapsed": false,
    "scrolled": false
   },
   "outputs": [
    {
     "data": {
      "text/plain": [
       "0    4239\n",
       "1    8417\n",
       "2    9414\n",
       "3    8195\n",
       "4    7593\n",
       "5    6953\n",
       "6    4541\n",
       "Name: created, dtype: int64"
      ]
     },
     "execution_count": 71,
     "metadata": {},
     "output_type": "execute_result"
    },
    {
     "name": "stdout",
     "output_type": "stream",
     "text": [
      "time: 6.95 ms\n"
     ]
    }
   ],
   "source": [
    "train.created.dt.weekday.value_counts().sort_index()"
   ]
  },
  {
   "cell_type": "code",
   "execution_count": 73,
   "metadata": {
    "collapsed": false
   },
   "outputs": [
    {
     "data": {
      "text/plain": [
       "array([[<matplotlib.axes._subplots.AxesSubplot object at 0x14f2348d0>,\n",
       "        <matplotlib.axes._subplots.AxesSubplot object at 0x14f710450>],\n",
       "       [<matplotlib.axes._subplots.AxesSubplot object at 0x14d5f5e90>,\n",
       "        <matplotlib.axes._subplots.AxesSubplot object at 0x14f879110>]], dtype=object)"
      ]
     },
     "execution_count": 73,
     "metadata": {},
     "output_type": "execute_result"
    },
    {
     "data": {
      "image/png": "[encoded data removed]",
      "text/plain": [
       "<matplotlib.figure.Figure at 0x14fc00e50>"
      ]
     },
     "metadata": {},
     "output_type": "display_data"
    },
    {
     "name": "stdout",
     "output_type": "stream",
     "text": [
      "time: 620 ms\n"
     ]
    }
   ],
   "source": [
    "train['hour'].hist(by=train['interest_level'], bins=24)"
   ]
  },
  {
   "cell_type": "code",
   "execution_count": 75,
   "metadata": {
    "collapsed": false
   },
   "outputs": [
    {
     "data": {
      "text/plain": [
       "array([[<matplotlib.axes._subplots.AxesSubplot object at 0x171fa3450>,\n",
       "        <matplotlib.axes._subplots.AxesSubplot object at 0x1720ecb90>],\n",
       "       [<matplotlib.axes._subplots.AxesSubplot object at 0x1744a9990>,\n",
       "        <matplotlib.axes._subplots.AxesSubplot object at 0x17222c850>]], dtype=object)"
      ]
     },
     "execution_count": 75,
     "metadata": {},
     "output_type": "execute_result"
    },
    {
     "data": {
      "image/png": "[encoded data removed]",
      "text/plain": [
       "<matplotlib.figure.Figure at 0x14d6e2f90>"
      ]
     },
     "metadata": {},
     "output_type": "display_data"
    },
    {
     "name": "stdout",
     "output_type": "stream",
     "text": [
      "time: 691 ms\n"
     ]
    }
   ],
   "source": [
    "train['day'].hist(by=train['interest_level'], bins=31)"
   ]
  },
  {
   "cell_type": "code",
   "execution_count": 77,
   "metadata": {
    "collapsed": false
   },
   "outputs": [
    {
     "data": {
      "text/plain": [
       "array([[<matplotlib.axes._subplots.AxesSubplot object at 0x145fe0850>,\n",
       "        <matplotlib.axes._subplots.AxesSubplot object at 0x148a74890>],\n",
       "       [<matplotlib.axes._subplots.AxesSubplot object at 0x14819d690>,\n",
       "        <matplotlib.axes._subplots.AxesSubplot object at 0x1488c2550>]], dtype=object)"
      ]
     },
     "execution_count": 77,
     "metadata": {},
     "output_type": "execute_result"
    },
    {
     "data": {
      "image/png": "[encoded data removed]",
      "text/plain": [
       "<matplotlib.figure.Figure at 0x148b06750>"
      ]
     },
     "metadata": {},
     "output_type": "display_data"
    },
    {
     "name": "stdout",
     "output_type": "stream",
     "text": [
      "time: 504 ms\n"
     ]
    }
   ],
   "source": [
    "train['dayofweek'].hist(by=train['interest_level'], bins=7)"
   ]
  },
  {
   "cell_type": "code",
   "execution_count": null,
   "metadata": {
    "collapsed": true
   },
   "outputs": [],
   "source": []
  },
  {
   "cell_type": "code",
   "execution_count": null,
   "metadata": {
    "collapsed": true
   },
   "outputs": [],
   "source": []
  },
  {
   "cell_type": "code",
   "execution_count": null,
   "metadata": {
    "collapsed": true
   },
   "outputs": [],
   "source": []
  },
  {
   "cell_type": "code",
   "execution_count": null,
   "metadata": {
    "collapsed": true
   },
   "outputs": [],
   "source": []
  },
  {
   "cell_type": "code",
   "execution_count": 18,
   "metadata": {
    "collapsed": false,
    "scrolled": true
   },
   "outputs": [
    {
     "data": {
      "text/plain": [
       "array([u'bathrooms', u'bedrooms', u'latitude', u'listing_id', u'longitude',\n",
       "       u'price'], dtype=object)"
      ]
     },
     "execution_count": 18,
     "metadata": {},
     "output_type": "execute_result"
    },
    {
     "name": "stdout",
     "output_type": "stream",
     "text": [
      "time: 6.33 ms\n"
     ]
    }
   ],
   "source": [
    "con_all = train.select_dtypes(include=['float64', 'int64']).columns.values\n",
    "outcome = np.array(['id'])\n",
    "con = np.setdiff1d(con_all, outcome)\n",
    "con"
   ]
  },
  {
   "cell_type": "code",
   "execution_count": 17,
   "metadata": {
    "collapsed": false
   },
   "outputs": [
    {
     "data": {
      "text/plain": [
       "bathrooms          49352\n",
       "bedrooms           49352\n",
       "building_id        49352\n",
       "created            49352\n",
       "description        49352\n",
       "display_address    49352\n",
       "features           49352\n",
       "interest_level     49352\n",
       "latitude           49352\n",
       "listing_id         49352\n",
       "longitude          49352\n",
       "manager_id         49352\n",
       "photos             49352\n",
       "price              49352\n",
       "street_address     49352\n",
       "dtype: int64"
      ]
     },
     "execution_count": 17,
     "metadata": {},
     "output_type": "execute_result"
    },
    {
     "name": "stdout",
     "output_type": "stream",
     "text": [
      "time: 37.4 ms\n"
     ]
    }
   ],
   "source": [
    "train.count()"
   ]
  },
  {
   "cell_type": "code",
   "execution_count": 7,
   "metadata": {
    "collapsed": false
   },
   "outputs": [
    {
     "data": {
      "text/plain": [
       "array([u'building_id', u'created', u'description', u'display_address',\n",
       "       u'features', u'interest_level', u'manager_id', u'photos',\n",
       "       u'street_address'], dtype=object)"
      ]
     },
     "execution_count": 7,
     "metadata": {},
     "output_type": "execute_result"
    }
   ],
   "source": [
    "cat_all = train.select_dtypes(include=['object']).columns.values\n",
    "outcome = np.array(['type'])\n",
    "cat = np.setdiff1d(cat_all, outcome)\n",
    "cat"
   ]
  },
  {
   "cell_type": "code",
   "execution_count": 8,
   "metadata": {
    "collapsed": false
   },
   "outputs": [
    {
     "ename": "AttributeError",
     "evalue": "'DataFrame' object has no attribute 'color'",
     "output_type": "error",
     "traceback": [
      "\u001b[0;31m---------------------------------------------------------------------------\u001b[0m",
      "\u001b[0;31mAttributeError\u001b[0m                            Traceback (most recent call last)",
      "\u001b[0;32m<ipython-input-8-75c4769313bb>\u001b[0m in \u001b[0;36m<module>\u001b[0;34m()\u001b[0m\n\u001b[0;32m----> 1\u001b[0;31m \u001b[0mtrain\u001b[0m\u001b[0;34m.\u001b[0m\u001b[0mcolor\u001b[0m\u001b[0;34m.\u001b[0m\u001b[0mvalue_counts\u001b[0m\u001b[0;34m(\u001b[0m\u001b[0;34m)\u001b[0m\u001b[0;34m\u001b[0m\u001b[0m\n\u001b[0m",
      "\u001b[0;32m/Users/l744679/Applications/anaconda/lib/python2.7/site-packages/pandas/core/generic.pyc\u001b[0m in \u001b[0;36m__getattr__\u001b[0;34m(self, name)\u001b[0m\n\u001b[1;32m   2742\u001b[0m             \u001b[0;32mif\u001b[0m \u001b[0mname\u001b[0m \u001b[0;32min\u001b[0m \u001b[0mself\u001b[0m\u001b[0;34m.\u001b[0m\u001b[0m_info_axis\u001b[0m\u001b[0;34m:\u001b[0m\u001b[0;34m\u001b[0m\u001b[0m\n\u001b[1;32m   2743\u001b[0m                 \u001b[0;32mreturn\u001b[0m \u001b[0mself\u001b[0m\u001b[0;34m[\u001b[0m\u001b[0mname\u001b[0m\u001b[0;34m]\u001b[0m\u001b[0;34m\u001b[0m\u001b[0m\n\u001b[0;32m-> 2744\u001b[0;31m             \u001b[0;32mreturn\u001b[0m \u001b[0mobject\u001b[0m\u001b[0;34m.\u001b[0m\u001b[0m__getattribute__\u001b[0m\u001b[0;34m(\u001b[0m\u001b[0mself\u001b[0m\u001b[0;34m,\u001b[0m \u001b[0mname\u001b[0m\u001b[0;34m)\u001b[0m\u001b[0;34m\u001b[0m\u001b[0m\n\u001b[0m\u001b[1;32m   2745\u001b[0m \u001b[0;34m\u001b[0m\u001b[0m\n\u001b[1;32m   2746\u001b[0m     \u001b[0;32mdef\u001b[0m \u001b[0m__setattr__\u001b[0m\u001b[0;34m(\u001b[0m\u001b[0mself\u001b[0m\u001b[0;34m,\u001b[0m \u001b[0mname\u001b[0m\u001b[0;34m,\u001b[0m \u001b[0mvalue\u001b[0m\u001b[0;34m)\u001b[0m\u001b[0;34m:\u001b[0m\u001b[0;34m\u001b[0m\u001b[0m\n",
      "\u001b[0;31mAttributeError\u001b[0m: 'DataFrame' object has no attribute 'color'"
     ]
    }
   ],
   "source": [
    "train.color.value_counts()"
   ]
  },
  {
   "cell_type": "code",
   "execution_count": 7,
   "metadata": {
    "collapsed": true
   },
   "outputs": [],
   "source": [
    "le = LabelEncoder()\n",
    "for v in cat:\n",
    "    le.fit(train[v].append(test[v], ignore_index=True))\n",
    "#     print list(le.classes_)\n",
    "    train[v] = le.transform(train[v])\n",
    "    test[v] = le.transform(test[v])"
   ]
  },
  {
   "cell_type": "code",
   "execution_count": 8,
   "metadata": {
    "collapsed": true
   },
   "outputs": [],
   "source": [
    "enc = OneHotEncoder()\n",
    "\n",
    "enc.fit(train[cat].append(test[cat], ignore_index=True))\n",
    "train_cat = enc.transform(train[cat]).toarray()\n",
    "test_cat = enc.transform(test[cat]).toarray()"
   ]
  },
  {
   "cell_type": "code",
   "execution_count": 9,
   "metadata": {
    "collapsed": true
   },
   "outputs": [],
   "source": [
    "train_con = train[con]\n",
    "test_con = test[con]"
   ]
  },
  {
   "cell_type": "code",
   "execution_count": 10,
   "metadata": {
    "collapsed": true
   },
   "outputs": [],
   "source": [
    "X_train = np.concatenate((train_cat, train_con), axis=1)\n",
    "X_test = np.concatenate((test_cat, test_con), axis=1)"
   ]
  },
  {
   "cell_type": "code",
   "execution_count": 11,
   "metadata": {
    "collapsed": false
   },
   "outputs": [
    {
     "name": "stdout",
     "output_type": "stream",
     "text": [
      "['Ghost', 'Ghoul', 'Goblin']\n"
     ]
    },
    {
     "data": {
      "text/plain": [
       "array([1, 2, 1, 1, 0, 2, 2, 1, 0, 0, 2, 1, 1, 2, 2, 1, 0, 1, 1, 0, 2, 1, 2,\n",
       "       1, 1, 0, 2, 2, 2, 2, 1, 0, 2, 2, 1, 0, 0, 1, 1, 0, 1, 0, 0, 2, 1, 2,\n",
       "       1, 0, 2, 2, 1, 1, 0, 2, 0, 2, 0, 2, 0, 1, 2, 2, 1, 2, 1, 0, 0, 1, 0,\n",
       "       1, 1, 0, 0, 1, 1, 2, 2, 0, 1, 1, 0, 0, 0, 2, 0, 2, 1, 2, 1, 1, 0, 1,\n",
       "       2, 1, 2, 2, 0, 2, 2, 0, 0, 0, 0, 2, 2, 0, 1, 2, 2, 1, 0, 2, 1, 0, 2,\n",
       "       0, 0, 2, 0, 1, 2, 2, 0, 2, 1, 0, 0, 2, 1, 1, 1, 1, 1, 2, 2, 1, 2, 2,\n",
       "       2, 1, 2, 2, 0, 2, 1, 0, 0, 2, 2, 2, 0, 0, 0, 1, 0, 1, 2, 2, 0, 0, 0,\n",
       "       2, 2, 1, 2, 2, 1, 2, 0, 0, 2, 0, 2, 0, 0, 0, 1, 0, 2, 1, 0, 0, 1, 0,\n",
       "       2, 2, 0, 0, 0, 1, 1, 2, 1, 0, 2, 1, 1, 2, 0, 0, 1, 1, 1, 2, 0, 0, 1,\n",
       "       2, 2, 2, 2, 1, 2, 0, 2, 1, 1, 0, 0, 1, 0, 2, 2, 1, 2, 1, 1, 2, 0, 1,\n",
       "       1, 2, 1, 1, 2, 2, 2, 1, 1, 2, 1, 1, 0, 0, 0, 0, 0, 0, 1, 1, 2, 0, 1,\n",
       "       2, 0, 0, 1, 0, 1, 2, 0, 0, 2, 0, 2, 2, 0, 0, 2, 2, 2, 0, 0, 1, 1, 2,\n",
       "       0, 0, 2, 1, 2, 1, 1, 0, 1, 0, 2, 1, 1, 1, 0, 1, 1, 0, 1, 1, 2, 0, 2,\n",
       "       0, 0, 2, 0, 1, 1, 1, 1, 1, 1, 2, 1, 2, 1, 2, 2, 2, 1, 2, 1, 1, 2, 0,\n",
       "       0, 2, 1, 1, 1, 1, 0, 1, 1, 0, 2, 0, 2, 0, 0, 1, 1, 1, 2, 2, 1, 2, 0,\n",
       "       1, 2, 0, 2, 1, 0, 2, 1, 2, 0, 2, 2, 1, 0, 1, 1, 1, 2, 0, 2, 1, 2, 0,\n",
       "       1, 0, 1])"
      ]
     },
     "execution_count": 11,
     "metadata": {},
     "output_type": "execute_result"
    }
   ],
   "source": [
    "Y_train = train.type\n",
    "\n",
    "le.fit(Y_train)\n",
    "Y_train = le.transform(Y_train)\n",
    "print list(le.classes_)\n",
    "Y_train"
   ]
  },
  {
   "cell_type": "code",
   "execution_count": 10,
   "metadata": {
    "collapsed": false,
    "scrolled": true
   },
   "outputs": [
    {
     "data": {
      "text/plain": [
       "Ghoul     129\n",
       "Goblin    125\n",
       "Ghost     117\n",
       "Name: type, dtype: int64"
      ]
     },
     "execution_count": 10,
     "metadata": {},
     "output_type": "execute_result"
    }
   ],
   "source": [
    "train.type.value_counts()"
   ]
  },
  {
   "cell_type": "code",
   "execution_count": 23,
   "metadata": {
    "collapsed": false
   },
   "outputs": [
    {
     "name": "stdout",
     "output_type": "stream",
     "text": [
      "Done.\n"
     ]
    }
   ],
   "source": [
    "from sklearn.multiclass import OneVsRestClassifier\n",
    "from sklearn.svm import LinearSVC\n",
    "output = OneVsRestClassifier(LinearSVC(random_state=0)).fit(X_train, Y_train).predict(X_test)\n",
    "# output\n",
    "\n",
    "outdf = pd.DataFrame()\n",
    "outdf['id'] = test['id']\n",
    "outdf['type'] = le.inverse_transform(output)\n",
    "outdf.to_csv('submissions/onevstherest_linearsvc.csv', index=False)\n",
    "print 'Done.'"
   ]
  },
  {
   "cell_type": "code",
   "execution_count": 25,
   "metadata": {
    "collapsed": false
   },
   "outputs": [
    {
     "name": "stdout",
     "output_type": "stream",
     "text": [
      "Done.\n"
     ]
    }
   ],
   "source": [
    "from sklearn.multiclass import OneVsRestClassifier\n",
    "from sklearn.svm import SVC\n",
    "output = OneVsRestClassifier(SVC(kernel='linear')).fit(X_train, Y_train).predict(X_test)\n",
    "# output\n",
    "\n",
    "outdf = pd.DataFrame()\n",
    "outdf['id'] = test['id']\n",
    "outdf['type'] = le.inverse_transform(output)\n",
    "outdf.to_csv('submissions/onevstherest_svc.csv', index=False)\n",
    "print 'Done.'"
   ]
  },
  {
   "cell_type": "code",
   "execution_count": 26,
   "metadata": {
    "collapsed": false
   },
   "outputs": [
    {
     "name": "stdout",
     "output_type": "stream",
     "text": [
      "Done.\n"
     ]
    }
   ],
   "source": [
    "from sklearn.multiclass import OneVsRestClassifier\n",
    "from sklearn.ensemble import RandomForestClassifier\n",
    "\n",
    "output = OneVsRestClassifier(RandomForestClassifier(n_estimators=100)).fit(X_train, Y_train).predict(X_test)\n",
    "# output\n",
    "\n",
    "outdf = pd.DataFrame()\n",
    "outdf['id'] = test['id']\n",
    "outdf['type'] = le.inverse_transform(output)\n",
    "outdf.to_csv('submissions/onevstherest_rf.csv', index=False)\n",
    "print 'Done.'"
   ]
  },
  {
   "cell_type": "code",
   "execution_count": 27,
   "metadata": {
    "collapsed": false
   },
   "outputs": [
    {
     "name": "stdout",
     "output_type": "stream",
     "text": [
      "Done.\n"
     ]
    }
   ],
   "source": [
    "from sklearn.multiclass import OneVsRestClassifier\n",
    "from sklearn.ensemble import GradientBoostingClassifier\n",
    "\n",
    "output = OneVsRestClassifier(GradientBoostingClassifier(n_estimators=100)).fit(X_train, Y_train).predict(X_test)\n",
    "# output\n",
    "\n",
    "outdf = pd.DataFrame()\n",
    "outdf['id'] = test['id']\n",
    "outdf['type'] = le.inverse_transform(output)\n",
    "outdf.to_csv('submissions/onevstherest_gbm.csv', index=False)\n",
    "print 'Done.'"
   ]
  },
  {
   "cell_type": "code",
   "execution_count": 22,
   "metadata": {
    "collapsed": false
   },
   "outputs": [
    {
     "name": "stdout",
     "output_type": "stream",
     "text": [
      "Done.\n"
     ]
    }
   ],
   "source": [
    "from sklearn.multiclass import OneVsOneClassifier\n",
    "from sklearn.svm import LinearSVC\n",
    "output = OneVsOneClassifier(LinearSVC(random_state=0)).fit(X_train, Y_train).predict(X_test)\n",
    "# output\n",
    "\n",
    "outdf = pd.DataFrame()\n",
    "outdf['id'] = test['id']\n",
    "outdf['type'] = le.inverse_transform(output)\n",
    "outdf.to_csv('submissions/onevsone_linearsvc.csv', index=False)\n",
    "print 'Done.'"
   ]
  },
  {
   "cell_type": "code",
   "execution_count": null,
   "metadata": {
    "collapsed": true
   },
   "outputs": [],
   "source": []
  },
  {
   "cell_type": "code",
   "execution_count": null,
   "metadata": {
    "collapsed": true
   },
   "outputs": [],
   "source": []
  }
 ],
 "metadata": {
  "kernelspec": {
   "display_name": "Python 2",
   "language": "python",
   "name": "python2"
  },
  "language_info": {
   "codemirror_mode": {
    "name": "ipython",
    "version": 2
   },
   "file_extension": ".py",
   "mimetype": "text/x-python",
   "name": "python",
   "nbconvert_exporter": "python",
   "pygments_lexer": "ipython2",
   "version": "2.7.12"
  }
 },
 "nbformat": 4,
 "nbformat_minor": 0
}
